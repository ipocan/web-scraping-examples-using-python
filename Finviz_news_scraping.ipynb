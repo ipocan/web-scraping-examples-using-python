{
  "nbformat": 4,
  "nbformat_minor": 0,
  "metadata": {
    "colab": {
      "name": "Finviz news scraping.ipynb",
      "provenance": [],
      "collapsed_sections": []
    },
    "kernelspec": {
      "name": "python3",
      "display_name": "Python 3"
    }
  },
  "cells": [
    {
      "cell_type": "markdown",
      "metadata": {
        "id": "MUCm7hpt9hg-"
      },
      "source": [
        "# Getting the data"
      ]
    },
    {
      "cell_type": "code",
      "metadata": {
        "id": "HjKZSUDyVLgu"
      },
      "source": [
        "from urllib.request import urlopen, Request\r\n",
        "from bs4 import BeautifulSoup"
      ],
      "execution_count": 1,
      "outputs": []
    },
    {
      "cell_type": "code",
      "metadata": {
        "id": "FbItuOu9VVSw"
      },
      "source": [
        "finviz_url = 'https://finviz.com/quote.ashx?t='"
      ],
      "execution_count": 2,
      "outputs": []
    },
    {
      "cell_type": "code",
      "metadata": {
        "id": "qBBhHK3PVZ0f"
      },
      "source": [
        "tickers = ['AMZN','TSLA','AAPL','GOOG','PFE','FB']\r\n"
      ],
      "execution_count": 3,
      "outputs": []
    },
    {
      "cell_type": "code",
      "metadata": {
        "id": "jwm3Epf3WIQQ"
      },
      "source": [
        "news_tables = {}\r\n",
        "for ticker in tickers:\r\n",
        "  url = finviz_url+ticker\r\n",
        "\r\n",
        "  req = Request(url = url, headers ={'user-agent': 'my-app'})\r\n",
        "  response = urlopen(req)\r\n",
        "\r\n",
        "  html = BeautifulSoup(response, 'html')\r\n",
        "  news_table = html.find(id='news-table')\r\n",
        "  news_tables[ticker] = news_table"
      ],
      "execution_count": 4,
      "outputs": []
    },
    {
      "cell_type": "markdown",
      "metadata": {
        "id": "E-uhCK249pnI"
      },
      "source": [
        "# Parsing and Manipulating Data"
      ]
    },
    {
      "cell_type": "code",
      "metadata": {
        "colab": {
          "base_uri": "https://localhost:8080/"
        },
        "id": "wC9f3V4H7Ce-",
        "outputId": "3df389ab-6432-4cfb-efc7-36ddaa496039"
      },
      "source": [
        "amzn_data = news_tables['AMZN']\r\n",
        "amzn_rows = amzn_data.findAll('tr')\r\n",
        "\r\n",
        "\r\n",
        "for index, row in enumerate(amzn_rows):\r\n",
        "  title = row.a.text\r\n",
        "  timestamp = row.td.text\r\n",
        "  print(timestamp + \" \" +title)"
      ],
      "execution_count": 5,
      "outputs": [
        {
          "output_type": "stream",
          "text": [
            "Dec-09-20 07:23PM   Facebook Risks Instagram-WhatsApp Breakup in Antitrust Case\n",
            "04:40PM   Will Amazon Or Shopify Stock Grow More By 2022?\n",
            "04:07PM   Cloud Stocks To Watch: Fast-Growing Real Estate Firm Rises Toward Breakout\n",
            "03:40PM   Microsoft, Unilever and a Finnish oil refiner believe Amazon has it right with climate pledge\n",
            "03:26PM   Facebook Is Hit With Lawsuits by 46 States and the FTC\n",
            "02:43PM   Google's Ethics Effort Is Looking Rather Evil\n",
            "02:41PM   Microsoft, Unilever Join Amazon Vow to Fight Climate Change\n",
            "02:38PM   Facebook sued by FTC, 48 attorneys general alleging it operates an illegal monopoly\n",
            "01:39PM   Post Corona Author Scott Galloway Explores the Future, Analyzes the Past\n",
            "12:59PM   COVID-19 pandemic has forever changed the pet products business: Chewy CEO\n",
            "12:35PM   Your 2020 Lockdown Holiday Gift Guide Is Here\n",
            "12:30PM   GameStop Needs a Reboot to Ride the Gaming Boom\n",
            "12:29PM   Want to Buy Amazon (AMZN) Stock? Heres What You Need to Know\n",
            "12:00PM   Better Buy: Amazon vs. Peloton\n",
            "11:00AM   Here's the 1 Stock (Not Named Amazon) That Has the Most to Gain This Holiday Shopping Season\n",
            "10:30AM   Why I Just Bought More Amazon Stock\n",
            "10:30AM   Chewy's Stock Is Fully Valued, Here's How I'd Trade It\n",
            "10:27AM   Is It Time to Buy the Dow Jones' 3 Worst Performing Stocks of 2020?\n",
            "10:15AM   Is Kroger Stock A Buy Right Now? Here's What Earnings, Charts Show\n",
            "10:00AM   Unilever, Microsoft, Brooks, Neste, and ITV Are Among 13 More Companies to Join The Climate Pledge\n",
            "09:15AM   Jumia Isn't the E-Commerce Company You Think It Is\n",
            "09:12AM   Better Buy: Lululemon vs. Target\n",
            "09:03AM   Amazon (AMZN) Boosts Healthcare Efforts With AWS Amazon HealthLake\n",
            "08:22AM   Buying Stocks for Christmas? These 3 Stocks Are Riding Unstoppable Trends\n",
            "08:07AM   Office REITs and Coronavirus Vaccines: What Investors Need to Know\n",
            "08:00AM   9 Amazing Stocks Are Just Getting Started, Analysts Say\n",
            "07:53AM   Amazon (AMZN) to Open 2nd Infrastructure Region in Australia\n",
            "07:36AM   Could Amazon Be a Millionaire-Maker Stock?\n",
            "07:15AM   New Investor? Here Are 3 Great Starter Stocks\n",
            "07:01AM   Best Buy commits $44 million to diversity and inclusion efforts  move to keep promise to 'do better'\n",
            "06:14AM   Amazon To Invest $100M In Lucrative Indian E-Pharmacy Business: Report\n",
            "06:00AM   Corporate America will truly be addressing racial justice when it costs something: Michael Eric Dyson\n",
            "05:30AM   Bolsonaro's Missteps Set Brazil Up for Bleak 2021\n",
            "04:08AM   Apple (AAPL) Music Now Available on Google Smart Speakers\n",
            "Dec-08-20 08:23PM   C3.ai IPO: What Investors Need to Know\n",
            "07:57PM   This Sleeping Giant of e-Commerce is the Next Amazon\n",
            "07:19PM   Scott Galloway on why Amazon was invented for the pandemic, and how AWS could be the most valuable company in the world\n",
            "06:45PM   PREMIUM: Trading the new 'fast market' paradigm\n",
            "04:18PM   All Eyes On Disney As Hollywood Reels From Warner Bros. Shocker\n",
            "03:54PM   AWS expands on SageMaker capabilities with end-to-end features for machine learning\n",
            "02:10PM   3 Reasons Investors Loved Stitch Fix's Earnings Report\n",
            "01:00PM   AWS Announces Nine New Amazon SageMaker Capabilities\n",
            "01:00PM   AWS Announces Amazon HealthLake\n",
            "12:36PM   3 reasons why the Nasdaq Composite is soaring again\n",
            "12:15PM   Amazon, Amex to Fund Software Developers in New GitHub Program\n",
            "12:13PM   The Subscription Economy: An Investors Update\n",
            "11:00AM   IMDb Announces Top 10 TV Series of 2020\n",
            "10:36AM   Amazon (AMZN) AWS Teams Up With MGM, Bolsters Cloud Clientele\n",
            "10:29AM   Solaris (SOI) Teams Up With Amazon for Machine-Learning Platform\n",
            "09:40AM   If a New Stimulus Deal Gets Done, These 3 Stocks Will Win\n",
            "09:01AM   EXCLUSIVE: Elie Saab Joins Amazons Luxury Stores\n",
            "09:00AM   ViacomCBS Migrating Entire Broadcast Footprint to Amazons AWS Cloud (EXCLUSIVE)\n",
            "09:00AM   Thomson Reuters Taps AWS to Power Digital Transformation\n",
            "09:00AM   AWS and ViacomCBS Expand Strategic Agreement to Transform Content Creation and Delivery\n",
            "08:35AM   Amazon (AMZN) to Open New Facility in Texas, Add Over 500 Jobs\n",
            "08:16AM   XPO Logistics Is Shedding Its Logistics: Here's What It Means for Shareholders\n",
            "07:36AM   Christmas Shopping? Here's 3 Stocks to Put Under the Tree\n",
            "07:07AM   Here's Why Online Grocery Shopping Is so Important for Target\n",
            "06:56AM   The Hidden Strategy Behind WarnerMedia's HBO Max Film Release Plans\n",
            "06:06AM   Is Wall Street Tiring of the FAANG Stocks?\n",
            "05:00AM   Anti-Vaxxer Books Top Search Results at Amazon, Barnes & Noble\n",
            "04:00AM   Company of the Year: How Zoom overcame security flaws in 2020\n",
            "04:00AM   Company of the Year: Aparna Bawa, Zoom COO\n",
            "03:09AM   BMW creates data hub with Amazon to boost efficiency\n",
            "03:08AM   Wish wants to be the Amazon for the rest of us; will retail investors buy it?\n",
            "03:01AM   The BMW Group and AWS Team Up to Accelerate Data-Driven Innovation in the Automotive Industry\n",
            "03:01AM   BMW creates data hub with Amazon to boost efficiency\n",
            "02:27AM   Gates Calls Indias Digital Finance Approach a Global Model\n",
            "Dec-07-20 10:01PM   Should Slack Shareholders Be Happy With This Deal?\n",
            "07:19PM   Uber Cuts Bait With Another Money-Losing Distraction\n",
            "06:13PM   AWS Announces Plans to Open Second Region in Australia\n",
            "05:58PM   Uber Sells Self-Driving Unit to Aurora, Takes Startup Stake\n",
            "05:43PM   Why Micro Focus International Stock Popped on Monday\n",
            "05:35PM   The Ultimate Warren Buffett Stock Is In Buy Zone, But Should You Buy It?\n",
            "05:21PM   Why Rite Aid Stock Jumped 44% Last Month\n",
            "04:10PM   Stock market rally amid COVID-19 creates distorted economy: Robert Reich\n",
            "03:51PM   The Indicators Suggest Amazon Could Turn Lower From Here\n",
            "03:19PM   What We Really Learned About Amazon, Shopify, and More on Black Friday\n",
            "01:48PM   Walmart's Reported Flipkart IPO Plans Make Sense Amid Fight With Amazon\n",
            "12:55PM   CEO of this Warren Buffett-backed tech juggernaut says it has just scratched the surface of cloud computing\n",
            "12:29PM   Apple Music Now Available on Google Speakers, Expanding Market\n",
            "11:27AM   Better Buy: Lemonade vs. Markel\n",
            "10:51AM   Are Investors Overreacting to BlackBerry's Deal with Amazon?\n",
            "10:03AM   Amazon Announces New Fulfillment Center in Missouri City, TX\n",
            "09:37AM   Our Company of the Year is a good investment, even a year later\n",
            "09:00AM   AWS Announces Partnership with MGM to Modernize its Media Supply Chain\n",
            "08:45AM   Amazon Donates $2.25 Million to The Housing Fund to Help Preserve Homeownership for Hundreds of Nashville Residents Amid Ongoing Challenges of 2020\n",
            "08:27AM   Amazon (AMZN) Oklahoma Fulfillment Center to Add 500 Jobs\n",
            "08:00AM   The Likely Fifth $1 Trillion Company Has 13% Upside, Analysts Say\n",
            "06:30AM   Snowflake Stock Has More Than Tripled Since Its IPO. CEO Frank Slootman Explains Whats Next.\n",
            "05:51AM   Got $10,000? 3 Top Stocks to Buy to End the Year Right\n",
            "Dec-06-20 05:00PM   These Two Words Will Strike Fear Into Gadget Makers This Christmas\n",
            "02:09PM   Is This Really the Longest Bull Market in History?\n",
            "01:00PM   Is Splunk Stock a Buy?\n",
            "07:30AM   3 Top IPOs to Buy in December\n",
            "06:19AM   Investing in This ETF Right Now Could Make You a Millionaire Retiree\n",
            "Dec-05-20 03:38PM   Why Zoom Stock Is Down\n",
            "12:06PM   Benzinga's Bulls And Bears Of The Week: Amazon, Apple, Ford, GE, Palantir And More\n",
            "12:03PM   3 Dividend Stocks That Pay You Better Than Coca-Cola Does\n",
            "11:55AM   If I Could Buy Only 1 Stock, This Would Be It\n"
          ],
          "name": "stdout"
        }
      ]
    },
    {
      "cell_type": "code",
      "metadata": {
        "colab": {
          "base_uri": "https://localhost:8080/"
        },
        "id": "0be1zhgpF1VB",
        "outputId": "04bfabac-eb9c-4abc-e7fe-3a46d8d2b5cb"
      },
      "source": [
        "parsed_data = []  \r\n",
        "\r\n",
        "for ticker, news_table in news_tables.items():\r\n",
        "\r\n",
        "  for row in news_table.findAll('tr'):\r\n",
        "    title = row.a.text\r\n",
        "    date_data = row.td.text.split(' ')\r\n",
        "\r\n",
        "    if len(date_data) ==1:     # 12:06PM \r\n",
        "      time = date_data[0]  \r\n",
        "    else:                 # Dec-05-20 03:38PM \r\n",
        "      date = date_data[0]\r\n",
        "      time = date_data[1]   \r\n",
        "\r\n",
        "    parsed_data.append([ticker,date,time,title])\r\n",
        "\r\n",
        "print(parsed_data)"
      ],
      "execution_count": 6,
      "outputs": [
        {
          "output_type": "stream",
          "text": [
            "[['AMZN', 'Dec-09-20', '07:23PM\\xa0\\xa0', 'Facebook Risks Instagram-WhatsApp Breakup in Antitrust Case'], ['AMZN', 'Dec-09-20', '04:40PM\\xa0\\xa0', 'Will Amazon Or Shopify Stock Grow More By 2022?'], ['AMZN', 'Dec-09-20', '04:07PM\\xa0\\xa0', 'Cloud Stocks To Watch: Fast-Growing Real Estate Firm Rises Toward Breakout'], ['AMZN', 'Dec-09-20', '03:40PM\\xa0\\xa0', 'Microsoft, Unilever and a Finnish oil refiner believe Amazon has it right with climate pledge'], ['AMZN', 'Dec-09-20', '03:26PM\\xa0\\xa0', 'Facebook Is Hit With Lawsuits by 46 States and the FTC'], ['AMZN', 'Dec-09-20', '02:43PM\\xa0\\xa0', \"Google's Ethics Effort Is Looking Rather Evil\"], ['AMZN', 'Dec-09-20', '02:41PM\\xa0\\xa0', 'Microsoft, Unilever Join Amazon Vow to Fight Climate Change'], ['AMZN', 'Dec-09-20', '02:38PM\\xa0\\xa0', 'Facebook sued by FTC, 48 attorneys general alleging it operates an illegal monopoly'], ['AMZN', 'Dec-09-20', '01:39PM\\xa0\\xa0', 'Post Corona Author Scott Galloway Explores the Future, Analyzes the Past'], ['AMZN', 'Dec-09-20', '12:59PM\\xa0\\xa0', 'COVID-19 pandemic has forever changed the pet products business: Chewy CEO'], ['AMZN', 'Dec-09-20', '12:35PM\\xa0\\xa0', 'Your 2020 Lockdown\\xa0Holiday Gift Guide Is Here'], ['AMZN', 'Dec-09-20', '12:30PM\\xa0\\xa0', 'GameStop Needs a Reboot to Ride the Gaming Boom'], ['AMZN', 'Dec-09-20', '12:29PM\\xa0\\xa0', 'Want to Buy Amazon (AMZN) Stock? Heres What You Need to Know'], ['AMZN', 'Dec-09-20', '12:00PM\\xa0\\xa0', 'Better Buy: Amazon vs. Peloton'], ['AMZN', 'Dec-09-20', '11:00AM\\xa0\\xa0', \"Here's the 1 Stock (Not Named Amazon) That Has the Most to Gain This Holiday Shopping Season\"], ['AMZN', 'Dec-09-20', '10:30AM\\xa0\\xa0', 'Why I Just Bought More Amazon Stock'], ['AMZN', 'Dec-09-20', '10:30AM\\xa0\\xa0', \"Chewy's Stock Is Fully Valued, Here's How I'd Trade It\"], ['AMZN', 'Dec-09-20', '10:27AM\\xa0\\xa0', \"Is It Time to Buy the Dow Jones' 3 Worst Performing Stocks of 2020?\"], ['AMZN', 'Dec-09-20', '10:15AM\\xa0\\xa0', \"Is Kroger Stock A Buy Right Now? Here's What Earnings, Charts Show\"], ['AMZN', 'Dec-09-20', '10:00AM\\xa0\\xa0', 'Unilever, Microsoft, Brooks, Neste, and ITV Are Among 13 More Companies to Join The Climate Pledge'], ['AMZN', 'Dec-09-20', '09:15AM\\xa0\\xa0', \"Jumia Isn't the E-Commerce Company You Think It Is\"], ['AMZN', 'Dec-09-20', '09:12AM\\xa0\\xa0', 'Better Buy: Lululemon vs. Target'], ['AMZN', 'Dec-09-20', '09:03AM\\xa0\\xa0', 'Amazon (AMZN) Boosts Healthcare Efforts With AWS Amazon HealthLake'], ['AMZN', 'Dec-09-20', '08:22AM\\xa0\\xa0', 'Buying Stocks for Christmas? These 3 Stocks Are Riding Unstoppable Trends'], ['AMZN', 'Dec-09-20', '08:07AM\\xa0\\xa0', 'Office REITs and Coronavirus Vaccines: What Investors Need to Know'], ['AMZN', 'Dec-09-20', '08:00AM\\xa0\\xa0', '9 Amazing Stocks Are Just Getting Started, Analysts Say'], ['AMZN', 'Dec-09-20', '07:53AM\\xa0\\xa0', 'Amazon (AMZN) to Open 2nd Infrastructure Region in Australia'], ['AMZN', 'Dec-09-20', '07:36AM\\xa0\\xa0', 'Could Amazon Be a Millionaire-Maker Stock?'], ['AMZN', 'Dec-09-20', '07:15AM\\xa0\\xa0', 'New Investor? Here Are 3 Great Starter Stocks'], ['AMZN', 'Dec-09-20', '07:01AM\\xa0\\xa0', \"Best Buy commits $44 million to diversity and inclusion efforts  move to keep promise to 'do better'\"], ['AMZN', 'Dec-09-20', '06:14AM\\xa0\\xa0', 'Amazon To Invest $100M In Lucrative Indian E-Pharmacy Business: Report'], ['AMZN', 'Dec-09-20', '06:00AM\\xa0\\xa0', 'Corporate America will truly be addressing racial justice when it costs something: Michael Eric Dyson'], ['AMZN', 'Dec-09-20', '05:30AM\\xa0\\xa0', \"Bolsonaro's Missteps Set Brazil Up for Bleak 2021\"], ['AMZN', 'Dec-09-20', '04:08AM\\xa0\\xa0', 'Apple (AAPL) Music Now Available on Google Smart Speakers'], ['AMZN', 'Dec-08-20', '08:23PM\\xa0\\xa0', 'C3.ai IPO: What Investors Need to Know'], ['AMZN', 'Dec-08-20', '07:57PM\\xa0\\xa0', 'This Sleeping Giant of e-Commerce is the Next Amazon'], ['AMZN', 'Dec-08-20', '07:19PM\\xa0\\xa0', 'Scott Galloway on why Amazon was invented for the pandemic, and how AWS could be the most valuable company in the world'], ['AMZN', 'Dec-08-20', '06:45PM\\xa0\\xa0', \"PREMIUM: Trading the new 'fast market' paradigm\"], ['AMZN', 'Dec-08-20', '04:18PM\\xa0\\xa0', 'All Eyes On Disney As Hollywood Reels From Warner Bros. Shocker'], ['AMZN', 'Dec-08-20', '03:54PM\\xa0\\xa0', 'AWS expands on SageMaker capabilities with end-to-end features for machine learning'], ['AMZN', 'Dec-08-20', '02:10PM\\xa0\\xa0', \"3 Reasons Investors Loved Stitch Fix's Earnings Report\"], ['AMZN', 'Dec-08-20', '01:00PM\\xa0\\xa0', 'AWS Announces Nine New Amazon SageMaker Capabilities'], ['AMZN', 'Dec-08-20', '01:00PM\\xa0\\xa0', 'AWS Announces Amazon HealthLake'], ['AMZN', 'Dec-08-20', '12:36PM\\xa0\\xa0', '3 reasons why the Nasdaq Composite is soaring again'], ['AMZN', 'Dec-08-20', '12:15PM\\xa0\\xa0', 'Amazon, Amex to Fund Software Developers in New GitHub Program'], ['AMZN', 'Dec-08-20', '12:13PM\\xa0\\xa0', 'The Subscription Economy: An Investors Update'], ['AMZN', 'Dec-08-20', '11:00AM\\xa0\\xa0', 'IMDb Announces Top 10 TV Series of 2020'], ['AMZN', 'Dec-08-20', '10:36AM\\xa0\\xa0', 'Amazon (AMZN) AWS Teams Up With MGM, Bolsters Cloud Clientele'], ['AMZN', 'Dec-08-20', '10:29AM\\xa0\\xa0', 'Solaris (SOI) Teams Up With Amazon for Machine-Learning Platform'], ['AMZN', 'Dec-08-20', '09:40AM\\xa0\\xa0', 'If a New Stimulus Deal Gets Done, These 3 Stocks Will Win'], ['AMZN', 'Dec-08-20', '09:01AM\\xa0\\xa0', 'EXCLUSIVE: Elie Saab Joins Amazons Luxury Stores'], ['AMZN', 'Dec-08-20', '09:00AM\\xa0\\xa0', 'ViacomCBS Migrating Entire Broadcast Footprint to Amazons AWS Cloud (EXCLUSIVE)'], ['AMZN', 'Dec-08-20', '09:00AM\\xa0\\xa0', 'Thomson Reuters Taps AWS to Power Digital Transformation'], ['AMZN', 'Dec-08-20', '09:00AM\\xa0\\xa0', 'AWS and ViacomCBS Expand Strategic Agreement to Transform Content Creation and Delivery'], ['AMZN', 'Dec-08-20', '08:35AM\\xa0\\xa0', 'Amazon (AMZN) to Open New Facility in Texas, Add Over 500 Jobs'], ['AMZN', 'Dec-08-20', '08:16AM\\xa0\\xa0', \"XPO Logistics Is Shedding Its Logistics: Here's What It Means for Shareholders\"], ['AMZN', 'Dec-08-20', '07:36AM\\xa0\\xa0', \"Christmas Shopping? Here's 3 Stocks to Put Under the Tree\"], ['AMZN', 'Dec-08-20', '07:07AM\\xa0\\xa0', \"Here's Why Online Grocery Shopping Is so Important for Target\"], ['AMZN', 'Dec-08-20', '06:56AM\\xa0\\xa0', \"The Hidden Strategy Behind WarnerMedia's HBO Max Film Release Plans\"], ['AMZN', 'Dec-08-20', '06:06AM\\xa0\\xa0', 'Is Wall Street Tiring of the FAANG Stocks?'], ['AMZN', 'Dec-08-20', '05:00AM\\xa0\\xa0', 'Anti-Vaxxer Books Top Search Results at Amazon, Barnes & Noble'], ['AMZN', 'Dec-08-20', '04:00AM\\xa0\\xa0', 'Company of the Year: How Zoom overcame security flaws in 2020'], ['AMZN', 'Dec-08-20', '04:00AM\\xa0\\xa0', 'Company of the Year: Aparna Bawa, Zoom COO'], ['AMZN', 'Dec-08-20', '03:09AM\\xa0\\xa0', 'BMW creates data hub with Amazon to boost efficiency'], ['AMZN', 'Dec-08-20', '03:08AM\\xa0\\xa0', 'Wish wants to be the Amazon for the rest of us; will retail investors buy it?'], ['AMZN', 'Dec-08-20', '03:01AM\\xa0\\xa0', 'The BMW Group and AWS Team Up to Accelerate Data-Driven Innovation in the Automotive Industry'], ['AMZN', 'Dec-08-20', '03:01AM\\xa0\\xa0', 'BMW creates data hub with Amazon to boost efficiency'], ['AMZN', 'Dec-08-20', '02:27AM\\xa0\\xa0', 'Gates Calls Indias Digital Finance Approach a Global Model'], ['AMZN', 'Dec-07-20', '10:01PM\\xa0\\xa0', 'Should Slack Shareholders Be Happy With This Deal?'], ['AMZN', 'Dec-07-20', '07:19PM\\xa0\\xa0', 'Uber Cuts Bait With Another Money-Losing Distraction'], ['AMZN', 'Dec-07-20', '06:13PM\\xa0\\xa0', 'AWS Announces Plans to Open Second Region in Australia'], ['AMZN', 'Dec-07-20', '05:58PM\\xa0\\xa0', 'Uber Sells Self-Driving Unit to Aurora, Takes Startup Stake'], ['AMZN', 'Dec-07-20', '05:43PM\\xa0\\xa0', 'Why Micro Focus International Stock Popped on Monday'], ['AMZN', 'Dec-07-20', '05:35PM\\xa0\\xa0', 'The Ultimate Warren Buffett Stock Is In Buy Zone, But Should You Buy It?'], ['AMZN', 'Dec-07-20', '05:21PM\\xa0\\xa0', 'Why Rite Aid Stock Jumped 44% Last Month'], ['AMZN', 'Dec-07-20', '04:10PM\\xa0\\xa0', 'Stock market rally amid COVID-19 creates distorted economy: Robert Reich'], ['AMZN', 'Dec-07-20', '03:51PM\\xa0\\xa0', 'The Indicators Suggest Amazon Could Turn Lower From Here'], ['AMZN', 'Dec-07-20', '03:19PM\\xa0\\xa0', 'What We Really Learned About Amazon, Shopify, and More on Black Friday'], ['AMZN', 'Dec-07-20', '01:48PM\\xa0\\xa0', \"Walmart's Reported Flipkart IPO Plans Make Sense Amid Fight With Amazon\"], ['AMZN', 'Dec-07-20', '12:55PM\\xa0\\xa0', 'CEO of this Warren Buffett-backed tech juggernaut says it has just scratched the surface of cloud computing'], ['AMZN', 'Dec-07-20', '12:29PM\\xa0\\xa0', 'Apple Music Now Available on Google Speakers, Expanding Market'], ['AMZN', 'Dec-07-20', '11:27AM\\xa0\\xa0', 'Better Buy: Lemonade vs. Markel'], ['AMZN', 'Dec-07-20', '10:51AM\\xa0\\xa0', \"Are Investors Overreacting to BlackBerry's Deal with Amazon?\"], ['AMZN', 'Dec-07-20', '10:03AM\\xa0\\xa0', 'Amazon Announces New Fulfillment Center in Missouri City, TX'], ['AMZN', 'Dec-07-20', '09:37AM\\xa0\\xa0', 'Our Company of the Year is a good investment, even a year later'], ['AMZN', 'Dec-07-20', '09:00AM\\xa0\\xa0', 'AWS Announces Partnership with MGM to Modernize its Media Supply Chain'], ['AMZN', 'Dec-07-20', '08:45AM\\xa0\\xa0', 'Amazon Donates $2.25 Million to The Housing Fund to Help Preserve Homeownership for Hundreds of Nashville Residents Amid Ongoing Challenges of 2020'], ['AMZN', 'Dec-07-20', '08:27AM\\xa0\\xa0', 'Amazon (AMZN) Oklahoma Fulfillment Center to Add 500 Jobs'], ['AMZN', 'Dec-07-20', '08:00AM\\xa0\\xa0', 'The Likely Fifth $1 Trillion Company Has 13% Upside, Analysts Say'], ['AMZN', 'Dec-07-20', '06:30AM\\xa0\\xa0', 'Snowflake Stock Has More Than Tripled Since Its IPO. CEO Frank Slootman Explains Whats Next.'], ['AMZN', 'Dec-07-20', '05:51AM\\xa0\\xa0', 'Got $10,000? 3 Top Stocks to Buy to End the Year Right'], ['AMZN', 'Dec-06-20', '05:00PM\\xa0\\xa0', 'These Two Words Will Strike Fear Into Gadget Makers This Christmas'], ['AMZN', 'Dec-06-20', '02:09PM\\xa0\\xa0', 'Is This Really the Longest Bull Market in History?'], ['AMZN', 'Dec-06-20', '01:00PM\\xa0\\xa0', 'Is Splunk Stock a Buy?'], ['AMZN', 'Dec-06-20', '07:30AM\\xa0\\xa0', '3 Top IPOs to Buy in December'], ['AMZN', 'Dec-06-20', '06:19AM\\xa0\\xa0', 'Investing in This ETF Right Now Could Make You a Millionaire Retiree'], ['AMZN', 'Dec-05-20', '03:38PM\\xa0\\xa0', 'Why Zoom Stock Is Down'], ['AMZN', 'Dec-05-20', '12:06PM\\xa0\\xa0', \"Benzinga's Bulls And Bears Of The Week: Amazon, Apple, Ford, GE, Palantir And More\"], ['AMZN', 'Dec-05-20', '12:03PM\\xa0\\xa0', '3 Dividend Stocks That Pay You Better Than Coca-Cola Does'], ['AMZN', 'Dec-05-20', '11:55AM\\xa0\\xa0', 'If I Could Buy Only 1 Stock, This Would Be It'], ['TSLA', 'Dec-09-20', '07:45PM\\xa0\\xa0', 'Dow Jones Futures: Stock Market Rally Sell-Off Is Good News; DoorDash IPO Flies, Airbnb Prices High, This IPO Breaks Out'], ['TSLA', 'Dec-09-20', '07:00PM\\xa0\\xa0', 'The Electric Car Boom Is About To Get Even Hotter'], ['TSLA', 'Dec-09-20', '04:48PM\\xa0\\xa0', 'Why Tesla Stock Fell Sharply on Wednesday'], ['TSLA', 'Dec-09-20', '04:40PM\\xa0\\xa0', 'Dow Jones Falls, Nasdaq Leads Market Lower On Stimulus Talks'], ['TSLA', 'Dec-09-20', '04:10PM\\xa0\\xa0', \"Tesla Full Self Driving Beta Hack Reveals New Details About Company's Autonomous Approach\"], ['TSLA', 'Dec-09-20', '03:58PM\\xa0\\xa0', \"It's exciting to see the progress on self-driving cars: Aurora Innovation CEO\"], ['TSLA', 'Dec-09-20', '03:10PM\\xa0\\xa0', 'November was a monster month for ETF flows: ETF.com'], ['TSLA', 'Dec-09-20', '02:04PM\\xa0\\xa0', 'Tesla, Trading at $650, Gets $90 Price Target From JPMorgan'], ['TSLA', 'Dec-09-20', '01:57PM\\xa0\\xa0', 'Dow Slides As McConnell Lashes Out Over Stimulus Gridlock; IPO Stock Soars On Debut'], ['TSLA', 'Dec-09-20', '01:30PM\\xa0\\xa0', 'Dow Jones Drops 200 Points As Talks Stall; DoorDash IPO Soars 77%'], ['TSLA', 'Dec-09-20', '12:59PM\\xa0\\xa0', 'These Nasdaq High-Flyers Are Getting Exactly What They Need Today'], ['TSLA', 'Dec-09-20', '12:21PM\\xa0\\xa0', 'Dow Jones Falls As Apple Hits New Buy Point, While Tesla Slides From Record High; DoorDash IPO Set To Surge 90%'], ['TSLA', 'Dec-09-20', '11:50AM\\xa0\\xa0', \"JPMorgan Says Tesla's Valuation Is 'Difficult To Conceive In Any Imagined Scenario'\"], ['TSLA', 'Dec-09-20', '11:00AM\\xa0\\xa0', 'Morning Bell With Jim Cramer: Tesla Is Right to Raise Capital'], ['TSLA', 'Dec-09-20', '09:59AM\\xa0\\xa0', 'Tesla Shares Are Dramatically Overvalued, JPMorgan Says'], ['TSLA', 'Dec-09-20', '09:45AM\\xa0\\xa0', '$10 Billion in 3 Months: Tesla Capitalizes on Soaring Stock Price'], ['TSLA', 'Dec-09-20', '09:38AM\\xa0\\xa0', 'Tesla May Be Impossible to Short, But It\\'s Still \"Dramatically\" Overvalued'], ['TSLA', 'Dec-09-20', '08:52AM\\xa0\\xa0', \"Tesla's stock gains, as second-most bearish analyst lifts price target\"], ['TSLA', 'Dec-09-20', '08:21AM\\xa0\\xa0', 'Dow Jones Futures: Apple Nears New Buy Point, While Tesla Hits Record High; 4 Top Stocks In Or Near Buy Zones'], ['TSLA', 'Dec-09-20', '08:15AM\\xa0\\xa0', 'Teslas Elon Musk Is Moving to Texas. Let the Debate Begin.'], ['TSLA', 'Dec-09-20', '06:37AM\\xa0\\xa0', 'Tesla Drives Indian Retail Investors Into A Frenzy Ahead Of Planned Expansion'], ['TSLA', 'Dec-09-20', '06:01AM\\xa0\\xa0', 'Tesla Equity Sale Comes at a Good Time for Index-Fund Trackers'], ['TSLA', 'Dec-09-20', '06:00AM\\xa0\\xa0', 'Corporate America will truly be addressing racial justice when it costs something: Michael Eric Dyson'], ['TSLA', 'Dec-09-20', '06:00AM\\xa0\\xa0', \"Canada's biggest electricity producer enters energy storage market\"], ['TSLA', 'Dec-09-20', '04:48AM\\xa0\\xa0', \"Short Seller Jim Chanos Explains Why He Still Doesn't Like Tesla\"], ['TSLA', 'Dec-09-20', '02:00AM\\xa0\\xa0', 'Hedge Funds Love SPACs But You Should\\xa0Watch Out'], ['TSLA', 'Dec-09-20', '12:55AM\\xa0\\xa0', 'PRESS DIGEST- New York Times business news - Dec. 9'], ['TSLA', 'Dec-08-20', '10:07PM\\xa0\\xa0', 'Tesla Giga Berlin Faces Further Delay Over Hibernating Snakes'], ['TSLA', 'Dec-08-20', '09:37PM\\xa0\\xa0', 'Elon Musk Advises Fellow CEOs To Spend Less Time On PowerPoint And Do This Instead'], ['TSLA', 'Dec-08-20', '09:20PM\\xa0\\xa0', 'Tesla: Latest Capital Raise Another Smart Move, Says Analyst'], ['TSLA', 'Dec-08-20', '08:00PM\\xa0\\xa0', 'How To Profit From The Death Of Car Ownership'], ['TSLA', 'Dec-08-20', '07:01PM\\xa0\\xa0', 'Jim Cramer: EXTRA! I Have the Young Investors Playlist Right Here!'], ['TSLA', 'Dec-08-20', '06:45PM\\xa0\\xa0', \"PREMIUM: Trading the new 'fast market' paradigm\"], ['TSLA', 'Dec-08-20', '06:00PM\\xa0\\xa0', 'Were Still Only Halfway to\\xa0Electric Cars'], ['TSLA', 'Dec-08-20', '05:24PM\\xa0\\xa0', 'Elon Musk Shrugs at Teslas $5 Billion Stock Issuance. Its an Entry in a Database.'], ['TSLA', 'Dec-08-20', '05:02PM\\xa0\\xa0', \"Tesla's Elon Musk: Snakes. Why Did It Have to Be Snakes?\"], ['TSLA', 'Dec-08-20', '04:36PM\\xa0\\xa0', 'Dow Jones Gains As Stock Market Reverses Higher On Coronavirus Vaccine Hopes'], ['TSLA', 'Dec-08-20', '04:23PM\\xa0\\xa0', 'Elon Musk moved to Texas'], ['TSLA', 'Dec-08-20', '04:17PM\\xa0\\xa0', 'US STOCKS-Wall Street closes higher on vaccine lift; S&P 500, Nasdaq at records'], ['TSLA', 'Dec-08-20', '04:06PM\\xa0\\xa0', \"Tesla Sales Jump In World's Top Auto Market As $5 Billion In New Capital Eyed\"], ['TSLA', 'Dec-08-20', '04:00PM\\xa0\\xa0', 'US STOCKS-Wall St closes higher on vaccine lift'], ['TSLA', 'Dec-08-20', '03:37PM\\xa0\\xa0', 'Apple Shifts Leadership of Self-Driving Car Unit to AI Chief'], ['TSLA', 'Dec-08-20', '03:31PM\\xa0\\xa0', \"Jim Cramer Says Stock Market Anticipates 2021 Vaccine 'Glut'\"], ['TSLA', 'Dec-08-20', '03:25PM\\xa0\\xa0', 'Dow Jones Rises As Nasdaq Hits All-Time High; IBD 50 Stock Breaks Out'], ['TSLA', 'Dec-08-20', '03:05PM\\xa0\\xa0', \"Tesla will be a 'real bellwether in the market': Strategist\"], ['TSLA', 'Dec-08-20', '03:00PM\\xa0\\xa0', 'Oil Market Hopeful As Vaccinations Begin'], ['TSLA', 'Dec-08-20', '02:51PM\\xa0\\xa0', \"Tesla's CEO Elon Musk says he has moved to Texas\"], ['TSLA', 'Dec-08-20', '02:45PM\\xa0\\xa0', 'Trading Tesla as Company Taps Equity Raise'], ['TSLA', 'Dec-08-20', '02:18PM\\xa0\\xa0', 'Tesla stock bounces back, as analyst sees $5 billion stock offering as a clear positive'], ['TSLA', 'Dec-08-20', '01:41PM\\xa0\\xa0', 'Dow Jones Rallies 100 Points; Apple Eyes New Buy Point; Tesla Strong Despite Stock-Sale Plans'], ['TSLA', 'Dec-08-20', '12:41PM\\xa0\\xa0', 'Were happy to see Tesla investing in the business and want them to have as many cars on the road as they possible can: Analyst'], ['TSLA', 'Dec-08-20', '12:36PM\\xa0\\xa0', '3 reasons why the Nasdaq Composite is soaring again'], ['TSLA', 'Dec-08-20', '12:11PM\\xa0\\xa0', 'Dow Jones Leads As Nasdaq Struggles, Tesla Stock Slides On This Move'], ['TSLA', 'Dec-08-20', '12:01PM\\xa0\\xa0', 'Dow Jones Reverses Amid Vaccine News, As Tesla Slides On Share Offering; Hot IPO Stitch Fix Skyrockets'], ['TSLA', 'Dec-08-20', '11:57AM\\xa0\\xa0', 'Tesla Is Nearly Unstoppable Following a $5 Billion Capital Raise'], ['TSLA', 'Dec-08-20', '11:31AM\\xa0\\xa0', 'About To Invest In Tesla? Consider This Battery Stock Instead'], ['TSLA', 'Dec-08-20', '11:20AM\\xa0\\xa0', 'Teslas Immense Cash Haul Leaves It in Rarefied Tier of S&P 500'], ['TSLA', 'Dec-08-20', '11:15AM\\xa0\\xa0', 'Tesla Sells Some More of Its Hot Product'], ['TSLA', 'Dec-08-20', '10:56AM\\xa0\\xa0', 'Tesla raising up to $5 billion in third share sale of 2020'], ['TSLA', 'Dec-08-20', '10:55AM\\xa0\\xa0', 'US STOCKS-Wall St slips on rising coronavirus cases, Tesla drags Nasdaq lower'], ['TSLA', 'Dec-08-20', '10:37AM\\xa0\\xa0', 'Investing Strategies: Top Tech Trends For 2021, China EV Stock Frenzy, Holding Long-Term Leaders'], ['TSLA', 'Dec-08-20', '10:30AM\\xa0\\xa0', 'Tesla Plans $5 Billion Share Sale Amid Record Run To S&P Debut, $600 Billion Market Value'], ['TSLA', 'Dec-08-20', '10:27AM\\xa0\\xa0', \"Tesla stock's many layers are like 'peeling the onion': strategist\"], ['TSLA', 'Dec-08-20', '10:15AM\\xa0\\xa0', 'I Sold My Tesla Shares, Will I Buy Them Back?'], ['TSLA', 'Dec-08-20', '09:51AM\\xa0\\xa0', 'Tesla Raising Up to $5 Billion in Third Share Sale This Year'], ['TSLA', 'Dec-08-20', '09:39AM\\xa0\\xa0', 'Tesla files to sell $5B in stock while its shares are richly valued'], ['TSLA', 'Dec-08-20', '09:25AM\\xa0\\xa0', 'Why Short Seller Jim Chanos Still Does Not Like Tesla Stock'], ['TSLA', 'Dec-08-20', '08:17AM\\xa0\\xa0', 'Dow Jones Futures: Tesla China Sales Surge, Share Sale Planned As Nio Eyes Buy Point; Stitch Fix Skyrockets On Earnings'], ['TSLA', 'Dec-08-20', '08:04AM\\xa0\\xa0', 'Stitch Fix, Tesla, and the Perils of Short Selling'], ['TSLA', 'Dec-08-20', '07:21AM\\xa0\\xa0', 'Up 616% in 2020, Is Tesla Still a Buy?'], ['TSLA', 'Dec-08-20', '06:21AM\\xa0\\xa0', 'Tesla launches second $5 billion share sale in three months'], ['TSLA', 'Dec-08-20', '06:03AM\\xa0\\xa0', 'Elon Musk Moves His Foundation To Texas, Fueling Speculations That Tesla Would Follow'], ['TSLA', 'Dec-08-20', '04:59AM\\xa0\\xa0', 'Tesla Achieves Record Giga-Shanghai Model 3 Deliveries In November'], ['TSLA', 'Dec-08-20', '02:54AM\\xa0\\xa0', \"Ssslow down! Sleeping snakes stall Tesla's German gigafactory\"], ['TSLA', 'Dec-08-20', '01:24AM\\xa0\\xa0', \"V-Day, FDA Data Dump, Uber's Self-Driving Haircut - What's up in Markets\"], ['TSLA', 'Dec-08-20', '12:16AM\\xa0\\xa0', 'Will Tesla Do Another Stock Split in 2021?'], ['TSLA', 'Dec-07-20', '10:01PM\\xa0\\xa0', \"Tesla Gets $2,500 3-Year Target From Munster, But Analyst Sees Apple As A Roadblock In EV Maker's Path\"], ['TSLA', 'Dec-07-20', '06:50PM\\xa0\\xa0', 'These Warning Signs Point to Overheating Stock Market Momentum'], ['TSLA', 'Dec-07-20', '06:07PM\\xa0\\xa0', 'Goldman Sachs Picks 2 Electric Car Stocks to Buy (And 1 to Watch)'], ['TSLA', 'Dec-07-20', '05:58PM\\xa0\\xa0', 'Uber Sells Self-Driving Unit to Aurora, Takes Startup Stake'], ['TSLA', 'Dec-07-20', '04:49PM\\xa0\\xa0', \"Former NYSE governor: How to trade hot growth stocks in the new 'fast market' paradigm\"], ['TSLA', 'Dec-07-20', '04:37PM\\xa0\\xa0', 'Dow Jones Dips But Nasdaq Scores New High; Will A Stimulus Deal Be Ready Soon?'], ['TSLA', 'Dec-07-20', '04:32PM\\xa0\\xa0', 'Stock Market Today: Tesla, Tech Stay on Track, But Dow Dips'], ['TSLA', 'Dec-07-20', '04:10PM\\xa0\\xa0', 'Stock market rally amid COVID-19 creates distorted economy: Robert Reich'], ['TSLA', 'Dec-07-20', '04:00PM\\xa0\\xa0', 'Xpeng Seeks $2 Billion To Stoke More Growth As Electric-Car Deliveries Soar'], ['TSLA', 'Dec-07-20', '02:42PM\\xa0\\xa0', 'Teslas market cap zooms past $600 billion'], ['TSLA', 'Dec-07-20', '02:00PM\\xa0\\xa0', 'Can Chinas Most Popular EV Conquer Europe?'], ['TSLA', 'Dec-07-20', '01:56PM\\xa0\\xa0', \"Last Week's Biggest EV Headlines\"], ['TSLA', 'Dec-07-20', '01:23PM\\xa0\\xa0', 'Dow Jones Falls Over 100 Points But Nasdaq Leads Market; Tesla At New Highs'], ['TSLA', 'Dec-07-20', '12:22PM\\xa0\\xa0', 'Dow Jones Slides As Coronavirus Cases Continue To Spike; Tesla Leads EV Rally'], ['TSLA', 'Dec-07-20', '12:16PM\\xa0\\xa0', 'The Zacks Analyst Blog Highlights: Tesla, L Brands, International Paper Co and Brother Industries'], ['TSLA', 'Dec-07-20', '12:02PM\\xa0\\xa0', 'Dow Jones Falls Amid Stimulus News, But Apple Holds Above New Buy Point; Tesla Hits Record High'], ['TSLA', 'Dec-07-20', '11:46AM\\xa0\\xa0', 'Why Tesla Stock Is Up on Monday'], ['TSLA', 'Dec-07-20', '11:32AM\\xa0\\xa0', 'Why Tesla Is Unlikely To Buy A Traditional Automaker Outright'], ['TSLA', 'Dec-07-20', '11:05AM\\xa0\\xa0', '3 reasons Tesla isnt our Company of the Year'], ['TSLA', 'Dec-07-20', '09:45AM\\xa0\\xa0', 'ROCE Insights For Tesla'], ['TSLA', 'Dec-07-20', '09:00AM\\xa0\\xa0', 'The Hottest Electric Car Companies For 2021'], ['TSLA', 'Dec-07-20', '08:52AM\\xa0\\xa0', 'Is the Options Market Predicting a Spike in Tesla (TSLA) Stock?'], ['TSLA', 'Dec-07-20', '08:06AM\\xa0\\xa0', '3 reasons Tesla isnt our Company of the Year'], ['TSLA', 'Dec-07-20', '06:54AM\\xa0\\xa0', \"Tesla, Wirecard  A Long-Short Bet Has Helped 'Tiger Cub' Post 52% Gains This Year\"], ['AAPL', 'Dec-09-20', '07:45PM\\xa0\\xa0', 'Dow Jones Futures: Stock Market Rally Sell-Off Is Good News; DoorDash IPO Flies, Airbnb Prices High, This IPO Breaks Out'], ['AAPL', 'Dec-09-20', '07:23PM\\xa0\\xa0', 'Facebook Risks Instagram-WhatsApp Breakup in Antitrust Case'], ['AAPL', 'Dec-09-20', '05:55PM\\xa0\\xa0', 'Why One Analyst Thinks Apple Stock Is Worth $160 a Share'], ['AAPL', 'Dec-09-20', '05:02PM\\xa0\\xa0', 'GlobalWafers Agrees to Buy Siltronic for About $4.5 Billion'], ['AAPL', 'Dec-09-20', '04:16PM\\xa0\\xa0', 'Dow Jones Stocks To Buy And Watch In December 2020: Apple, Microsoft Tumble'], ['AAPL', 'Dec-09-20', '04:09PM\\xa0\\xa0', 'Apple Ignored Breaches of China Labor Law, The Information Says'], ['AAPL', 'Dec-09-20', '03:26PM\\xa0\\xa0', 'Facebook Is Hit With Lawsuits by 46 States and the FTC'], ['AAPL', 'Dec-09-20', '02:38PM\\xa0\\xa0', 'Facebook sued by FTC, 48 attorneys general alleging it operates an illegal monopoly'], ['AAPL', 'Dec-09-20', '02:01PM\\xa0\\xa0', 'Dow Jones Slips as Disney Stock Upgraded, Apple Stock Follows Dow Lower'], ['AAPL', 'Dec-09-20', '01:30PM\\xa0\\xa0', 'Dow Jones Drops 200 Points As Talks Stall; DoorDash IPO Soars 77%'], ['AAPL', 'Dec-09-20', '12:27PM\\xa0\\xa0', 'Want to Buy Apple (AAPL) Stock? Heres What You Need to Know'], ['AAPL', 'Dec-09-20', '12:21PM\\xa0\\xa0', 'Dow Jones Falls As Apple Hits New Buy Point, While Tesla Slides From Record High; DoorDash IPO Set To Surge 90%'], ['AAPL', 'Dec-09-20', '12:03PM\\xa0\\xa0', 'Apple Stock Could Surge 61% to $200, According to This Analyst'], ['AAPL', 'Dec-09-20', '12:00PM\\xa0\\xa0', 'Qualcomm Stock Is Set to Gain From the Coming 5G Boom, Analyst Says'], ['AAPL', 'Dec-09-20', '11:21AM\\xa0\\xa0', 'New Apple Headphones Would Make the Perfect Gift...for Memorial Day'], ['AAPL', 'Dec-09-20', '10:45AM\\xa0\\xa0', 'Is It Time to Buy Intel (INTC)?'], ['AAPL', 'Dec-09-20', '10:26AM\\xa0\\xa0', \"Apple's (AAPL) Airpods Max, Fitness+ to Boost Holiday Sales\"], ['AAPL', 'Dec-09-20', '10:00AM\\xa0\\xa0', \"Apple's Premium Headphones Are Finally Here\"], ['AAPL', 'Dec-09-20', '08:51AM\\xa0\\xa0', \"Apple Bull Case Now $200, Says Wedbush, Amid 'Clear Uptick' in iPhone 12 Demand\"], ['AAPL', 'Dec-09-20', '08:21AM\\xa0\\xa0', 'Dow Jones Futures: Apple Nears New Buy Point, While Tesla Hits Record High; 4 Top Stocks In Or Near Buy Zones'], ['AAPL', 'Dec-09-20', '07:45AM\\xa0\\xa0', '5 Stocks That Make Great Gifts for Teaching Kids Investing'], ['AAPL', 'Dec-09-20', '07:36AM\\xa0\\xa0', \"How Does Apple's Debt Look?\"], ['AAPL', 'Dec-09-20', '06:21AM\\xa0\\xa0', '2 New Catalysts for Apple Stock'], ['AAPL', 'Dec-09-20', '06:00AM\\xa0\\xa0', 'Corporate America will truly be addressing racial justice when it costs something: Michael Eric Dyson'], ['AAPL', 'Dec-09-20', '05:16AM\\xa0\\xa0', 'Apple Demands $549 For Its New Headphones And Social Media Is Having None Of It'], ['AAPL', 'Dec-09-20', '04:08AM\\xa0\\xa0', 'Apple (AAPL) Music Now Available on Google Smart Speakers'], ['AAPL', 'Dec-09-20', '03:30AM\\xa0\\xa0', 'Apple Refuses To Concede To Facebook, Other Advertisers Over Tracking Users Without Consent'], ['AAPL', 'Dec-09-20', '02:15AM\\xa0\\xa0', 'Apple Gets $200 Bull Case Target From Wedbush On Strongest Product Cycle Since 2014'], ['AAPL', 'Dec-09-20', '01:07AM\\xa0\\xa0', \"Apple's New AirPods Max Won't Arrive In Time For Holiday Season: Bloomberg\"], ['AAPL', 'Dec-08-20', '08:11PM\\xa0\\xa0', 'New Orders of Apples AirPods Max Wont Arrive for Christmas'], ['AAPL', 'Dec-08-20', '06:45PM\\xa0\\xa0', \"PREMIUM: Trading the new 'fast market' paradigm\"], ['AAPL', 'Dec-08-20', '06:37PM\\xa0\\xa0', 'Apple takes aim at adtech hysteria over iOS app tracking change'], ['AAPL', 'Dec-08-20', '05:45PM\\xa0\\xa0', 'Apple (AAPL) Outpaces Stock Market Gains: What You Should Know'], ['AAPL', 'Dec-08-20', '05:21PM\\xa0\\xa0', 'Apple Introduces Premium, Over-Ear Headphones In Time For The Holidays'], ['AAPL', 'Dec-08-20', '05:00PM\\xa0\\xa0', 'How Useful Is Huaweis New $1,445 Phone Without Google? Review'], ['AAPL', 'Dec-08-20', '04:36PM\\xa0\\xa0', 'Dow Jones Gains As Stock Market Reverses Higher On Coronavirus Vaccine Hopes'], ['AAPL', 'Dec-08-20', '04:18PM\\xa0\\xa0', 'All Eyes On Disney As Hollywood Reels From Warner Bros. Shocker'], ['AAPL', 'Dec-08-20', '03:37PM\\xa0\\xa0', 'Apple Shifts Leadership of Self-Driving Car Unit to AI Chief'], ['AAPL', 'Dec-08-20', '02:31PM\\xa0\\xa0', \"Apple co-founder Steve Wozniak on WOZX crypto listing: 'I think of our tokens as shares of stock'\"], ['AAPL', 'Dec-08-20', '01:41PM\\xa0\\xa0', 'Dow Jones Rallies 100 Points; Apple Eyes New Buy Point; Tesla Strong Despite Stock-Sale Plans'], ['AAPL', 'Dec-08-20', '01:35PM\\xa0\\xa0', 'Apple Goes Big With AirPods Max'], ['AAPL', 'Dec-08-20', '01:25PM\\xa0\\xa0', 'What iPhone 12 Shipping Times Tell Us About Apple Stock'], ['AAPL', 'Dec-08-20', '12:47PM\\xa0\\xa0', 'Why Amazon was invented for the pandemic, and how AWS could be the most valuable company in the world'], ['AAPL', 'Dec-08-20', '12:39PM\\xa0\\xa0', 'Apple Sets Launch Date for Fitness App. Peloton Is a Target.'], ['AAPL', 'Dec-08-20', '12:23PM\\xa0\\xa0', 'Apple set to launch AirPods Max over-ear headphones for $549'], ['AAPL', 'Dec-08-20', '12:13PM\\xa0\\xa0', 'The Subscription Economy: An Investors Update'], ['AAPL', 'Dec-08-20', '12:11PM\\xa0\\xa0', 'Dow Jones Leads As Nasdaq Struggles, Tesla Stock Slides On This Move'], ['AAPL', 'Dec-08-20', '12:01PM\\xa0\\xa0', 'Dow Jones Reverses Amid Vaccine News, As Tesla Slides On Share Offering; Hot IPO Stitch Fix Skyrockets'], ['AAPL', 'Dec-08-20', '11:36AM\\xa0\\xa0', 'Apple Launches $549 AirPods Max Wireless Headphones'], ['AAPL', 'Dec-08-20', '11:15AM\\xa0\\xa0', 'Cisco Wakes Up and Overhauls Webex. Look Out, Zoom Video.'], ['AAPL', 'Dec-08-20', '10:50AM\\xa0\\xa0', 'Intel EVP on Apple testing new chip design: We feel very good with where we are competitively'], ['AAPL', 'Dec-08-20', '10:42AM\\xa0\\xa0', 'Apple Unveils AirPods Max Wireless Headphones'], ['AAPL', 'Dec-08-20', '10:37AM\\xa0\\xa0', 'Investing Strategies: Top Tech Trends For 2021, China EV Stock Frenzy, Holding Long-Term Leaders'], ['AAPL', 'Dec-08-20', '10:27AM\\xa0\\xa0', 'Apple Launches $550\\xa0Over-Ear Headphones Into Crowded Market'], ['AAPL', 'Dec-08-20', '10:01AM\\xa0\\xa0', 'Apple (AAPL) Announces AirPods Max'], ['AAPL', 'Dec-08-20', '10:01AM\\xa0\\xa0', 'Apple Launches Fitness+ Platform; Peloton Shares Lower'], ['AAPL', 'Dec-08-20', '09:54AM\\xa0\\xa0', 'Company News for Dec 8, 2020'], ['AAPL', 'Dec-08-20', '09:40AM\\xa0\\xa0', 'If a New Stimulus Deal Gets Done, These 3 Stocks Will Win'], ['AAPL', 'Dec-08-20', '09:31AM\\xa0\\xa0', \"Apple could block apps that don't comply with new privacy feature\"], ['AAPL', 'Dec-08-20', '09:24AM\\xa0\\xa0', \"Apple could block apps that don't comply with new privacy feature\"], ['AAPL', 'Dec-08-20', '09:12AM\\xa0\\xa0', 'Apple announces over-the-ear AirPods Max headphones for $549'], ['AAPL', 'Dec-08-20', '09:06AM\\xa0\\xa0', 'Apple Fitness+ launches on December 14'], ['AAPL', 'Dec-08-20', '09:05AM\\xa0\\xa0', '1 Reason to Be Bullish on Apple Stock'], ['AAPL', 'Dec-08-20', '08:30AM\\xa0\\xa0', 'Apple Introduces AirPods Max, the Magic of AirPods in a Stunning Over-ear Design'], ['AAPL', 'Dec-08-20', '08:30AM\\xa0\\xa0', 'Apple Fitness+: The future of fitness launches December 14'], ['AAPL', 'Dec-08-20', '07:15AM\\xa0\\xa0', \"Is Apple Stock A Buy Right Now? Here's What Its Stock Chart Shows\"], ['AAPL', 'Dec-08-20', '07:00AM\\xa0\\xa0', 'Shares of Warren Buffetts Berkshire Hathaway Still Underperform. Why Its Time to Buy.'], ['AAPL', 'Dec-08-20', '04:00AM\\xa0\\xa0', 'Company of the Year: Aparna Bawa, Zoom COO'], ['AAPL', 'Dec-07-20', '10:54PM\\xa0\\xa0', \"Report: Apple Developing Mac Chips That Will Be Faster Than Intel's Top-Line Products\"], ['AAPL', 'Dec-07-20', '10:01PM\\xa0\\xa0', \"Tesla Gets $2,500 3-Year Target From Munster, But Analyst Sees Apple As A Roadblock In EV Maker's Path\"], ['AAPL', 'Dec-07-20', '05:59PM\\xa0\\xa0', 'Markets Close Mixed; Toll Brothers (TOL) Puts Up Record Quarter'], ['AAPL', 'Dec-07-20', '05:35PM\\xa0\\xa0', 'The Ultimate Warren Buffett Stock Is In Buy Zone, But Should You Buy It?'], ['AAPL', 'Dec-07-20', '05:00PM\\xa0\\xa0', 'Dow Jones Futures: Tesla China Sales In Focus, Nio Eyes Buy Point; Coupa Software, Stitch Fix Break Out Late'], ['AAPL', 'Dec-07-20', '04:37PM\\xa0\\xa0', 'Dow Jones Dips But Nasdaq Scores New High; Will A Stimulus Deal Be Ready Soon?'], ['AAPL', 'Dec-07-20', '04:23PM\\xa0\\xa0', 'Why Intel Stock Just Dropped'], ['AAPL', 'Dec-07-20', '04:10PM\\xa0\\xa0', 'Breakout Stocks To Watch: Apple Stock Eyes Alternative Buy Point'], ['AAPL', 'Dec-07-20', '04:10PM\\xa0\\xa0', 'US STOCKS-Nasdaq closes at record high as growth names get a lift'], ['AAPL', 'Dec-07-20', '04:00PM\\xa0\\xa0', 'US STOCKS-Nasdaq closes at record high as growth names get a lift'], ['AAPL', 'Dec-07-20', '03:10PM\\xa0\\xa0', 'These 2 FAANG Leaders Will Drive the Nasdaq in 2021'], ['AAPL', 'Dec-07-20', '03:06PM\\xa0\\xa0', 'Dow Jones Falls 200 Points, Weighed Down By Intel; Nasdaq Led By Apple, Facebook, Adobe; 3 Marijuana Stocks To Watch'], ['AAPL', 'Dec-07-20', '02:43PM\\xa0\\xa0', 'US STOCKS-Nasdaq hits record as growth names get a bump'], ['AAPL', 'Dec-07-20', '01:37PM\\xa0\\xa0', 'iPhone 12 Demand Is Skewing Toward High-End Models, Analyst Says'], ['AAPL', 'Dec-07-20', '01:13PM\\xa0\\xa0', \"Apple co-founder Steve Wozniak's crypto token takes offbut you can't buy it in the US\"], ['AAPL', 'Dec-07-20', '12:30PM\\xa0\\xa0', \"California's CA Notify app to offer statewide exposure notification using Apple and Google's framework\"], ['AAPL', 'Dec-07-20', '12:29PM\\xa0\\xa0', 'Apple Music Now Available on Google Speakers, Expanding Market'], ['AAPL', 'Dec-07-20', '12:22PM\\xa0\\xa0', 'Dow Jones Slides As Coronavirus Cases Continue To Spike; Tesla Leads EV Rally'], ['AAPL', 'Dec-07-20', '12:02PM\\xa0\\xa0', 'Dow Jones Falls Amid Stimulus News, But Apple Holds Above New Buy Point; Tesla Hits Record High'], ['AAPL', 'Dec-07-20', '12:00PM\\xa0\\xa0', 'Perdues Trading Activity Is Less Than It Seems'], ['AAPL', 'Dec-07-20', '11:43AM\\xa0\\xa0', \"Bob Dylan's Latest Tune Is Hey, Mr. Cash Machine Man\"], ['AAPL', 'Dec-07-20', '10:52AM\\xa0\\xa0', 'US STOCKS-Nasdaq hits record high as big tech leads; energy stocks battered'], ['AAPL', 'Dec-07-20', '10:40AM\\xa0\\xa0', 'Apple (AAPL) Sees Increased Complaints About iPhone 12'], ['AAPL', 'Dec-07-20', '10:01AM\\xa0\\xa0', 'Dow Industrials Set To Snap Win Streak; Stocks Mixed As Apple Targets Intel; Boeing Rises On First 737 Max Flight'], ['AAPL', 'Dec-07-20', '10:00AM\\xa0\\xa0', 'Apple consumers still favoring the higher-priced new iPhone models, says J.P. Morgan'], ['AAPL', 'Dec-07-20', '09:46AM\\xa0\\xa0', 'Apple Preps Next Mac Chips With Aim to Outclass Top-End PCs'], ['AAPL', 'Dec-07-20', '09:19AM\\xa0\\xa0', 'PulteGroup, Post Holdings, PayPal, Global Payments and Apple highlighted as Zacks Bull and Bear of the Day'], ['AAPL', 'Dec-07-20', '09:05AM\\xa0\\xa0', 'Apple Aims to Unveil Intel-Beating Chips as Early as Spring'], ['AAPL', 'Dec-07-20', '08:22AM\\xa0\\xa0', 'Dow Jones Futures Fall, Vaccinations Set To Start: Stock Market Rally Outlook; Apple, Google Are Buys Now'], ['AAPL', 'Dec-07-20', '08:00AM\\xa0\\xa0', 'The Likely Fifth $1 Trillion Company Has 13% Upside, Analysts Say'], ['AAPL', 'Dec-07-20', '07:14AM\\xa0\\xa0', 'Apple reportedly testing Intel-beating high core count Apple Silicon chips for high-end Macs'], ['AAPL', 'Dec-07-20', '04:25AM\\xa0\\xa0', 'Company of the Year: Kelly Steckelberg, Zoom CFO'], ['GOOG', 'Dec-09-20', '07:39PM\\xa0\\xa0', 'Google CEO says company will review AI scholars abrupt exit'], ['GOOG', 'Dec-09-20', '07:23PM\\xa0\\xa0', 'Facebook Risks Instagram-WhatsApp Breakup in Antitrust Case'], ['GOOG', 'Dec-09-20', '06:41PM\\xa0\\xa0', 'Facebooks Great Unwinding May Have Just Begun'], ['GOOG', 'Dec-09-20', '05:42PM\\xa0\\xa0', 'Breaking down 2020s impact on the U.S. government'], ['GOOG', 'Dec-09-20', '05:32PM\\xa0\\xa0', 'Will Facebook or Google be broken up in 2021?'], ['GOOG', 'Dec-09-20', '04:33PM\\xa0\\xa0', 'The FTC wants to break up Facebook'], ['GOOG', 'Dec-09-20', '04:33PM\\xa0\\xa0', 'Section 230 Changes Could Come As Social Media Stocks Get Low Marks For Impartiality'], ['GOOG', 'Dec-09-20', '04:15PM\\xa0\\xa0', \"Google CEO says company will review events leading up to Dr. Timnit Gebru's departure\"], ['GOOG', 'Dec-09-20', '03:57PM\\xa0\\xa0', 'Is GOOG A Good Stock To Buy Now?'], ['GOOG', 'Dec-09-20', '03:26PM\\xa0\\xa0', 'Google CEO Apologizes for Handling of Departure of AI Expert'], ['GOOG', 'Dec-09-20', '02:43PM\\xa0\\xa0', \"Google's Ethics Effort Is Looking Rather Evil\"], ['GOOG', 'Dec-09-20', '02:38PM\\xa0\\xa0', 'Facebook sued by FTC, 48 attorneys general alleging it operates an illegal monopoly'], ['GOOG', 'Dec-09-20', '02:36PM\\xa0\\xa0', 'Facebook Sued by U.S., States in Antitrust Case, FTC Says'], ['GOOG', 'Dec-09-20', '12:58PM\\xa0\\xa0', 'Chrome adds new capabilities for developers, introduces new privacy rules for extension developers'], ['GOOG', 'Dec-09-20', '12:01PM\\xa0\\xa0', 'YouTube to Delete New False Election Videos -- Even Trumps'], ['GOOG', 'Dec-09-20', '11:30AM\\xa0\\xa0', \"How Zoom became 'critical infrastructure' for millions of kids learning online\"], ['GOOG', 'Dec-09-20', '10:57AM\\xa0\\xa0', \"Coronavirus, election results, Kobe Bryant and Zoom among Google's top 2020 search trends in US and world\"], ['GOOG', 'Dec-09-20', '08:56AM\\xa0\\xa0', 'Dow Turns Red as Tech Slips, Stimulus Talks Stall'], ['GOOG', 'Dec-09-20', '07:27AM\\xa0\\xa0', 'Google quietly acquires Dataform, the UK startup helping businesses manage data warehouses'], ['GOOG', 'Dec-09-20', '07:10AM\\xa0\\xa0', 'Firebolt raises $37M to take on Snowflake, Amazon and Google with a new approach to data warehousing'], ['GOOG', 'Dec-09-20', '07:00AM\\xa0\\xa0', 'Google Top Trending Searches 2020: Kobe Bryant, Naya Rivera, Chadwick Boseman Among Most Popular Queries'], ['GOOG', 'Dec-09-20', '04:08AM\\xa0\\xa0', 'Apple (AAPL) Music Now Available on Google Smart Speakers'], ['GOOG', 'Dec-09-20', '04:00AM\\xa0\\xa0', 'Company of the Year: How Zoom Changed U.S. Education'], ['GOOG', 'Dec-08-20', '08:23PM\\xa0\\xa0', 'C3.ai IPO: What Investors Need to Know'], ['GOOG', 'Dec-08-20', '05:45PM\\xa0\\xa0', 'Alphabet (GOOGL) Stock Sinks As Market Gains: What You Should Know'], ['GOOG', 'Dec-08-20', '05:00PM\\xa0\\xa0', 'How Useful Is Huaweis New $1,445 Phone Without Google? Review'], ['GOOG', 'Dec-08-20', '03:37PM\\xa0\\xa0', 'Apple Shifts Leadership of Self-Driving Car Unit to AI Chief'], ['GOOG', 'Dec-08-20', '01:30PM\\xa0\\xa0', \"BNY Mellon's Keating Has Some Tips for Investors\"], ['GOOG', 'Dec-08-20', '01:00PM\\xa0\\xa0', 'Former Salesforce chief scientist announces new search engine to take on Google'], ['GOOG', 'Dec-08-20', '12:47PM\\xa0\\xa0', 'Why Amazon was invented for the pandemic, and how AWS could be the most valuable company in the world'], ['GOOG', 'Dec-08-20', '12:17PM\\xa0\\xa0', 'Google Lawsuits by States Coming in Weeks, Texas AG Says'], ['GOOG', 'Dec-08-20', '10:58AM\\xa0\\xa0', 'Google Weighs Action in Search Against a Smaller Player'], ['GOOG', 'Dec-08-20', '10:50AM\\xa0\\xa0', 'Intel EVP on Apple testing new chip design: We feel very good with where we are competitively'], ['GOOG', 'Dec-08-20', '09:00AM\\xa0\\xa0', 'Xayn is privacy-safe, personalized mobile web search powered by on-device AIs'], ['GOOG', 'Dec-08-20', '06:06AM\\xa0\\xa0', 'Is Wall Street Tiring of the FAANG Stocks?'], ['GOOG', 'Dec-08-20', '05:00AM\\xa0\\xa0', 'Anti-Vaxxer Books Top Search Results at Amazon, Barnes & Noble'], ['GOOG', 'Dec-08-20', '04:00AM\\xa0\\xa0', 'Company of the Year: How Zoom overcame security flaws in 2020'], ['GOOG', 'Dec-08-20', '04:00AM\\xa0\\xa0', 'Company of the Year: Aparna Bawa, Zoom COO'], ['GOOG', 'Dec-08-20', '01:25AM\\xa0\\xa0', 'Google Rolls Out Direct-To-YouTube Livestream Of Stadia Games'], ['GOOG', 'Dec-07-20', '10:48PM\\xa0\\xa0', 'Australia to make Facebook, Google pay news outlets for content'], ['GOOG', 'Dec-07-20', '10:40PM\\xa0\\xa0', 'Australia to make Facebook, Google pay news outlets for content'], ['GOOG', 'Dec-07-20', '07:19PM\\xa0\\xa0', 'Uber Cuts Bait With Another Money-Losing Distraction'], ['GOOG', 'Dec-07-20', '05:58PM\\xa0\\xa0', 'Uber Sells Self-Driving Unit to Aurora, Takes Startup Stake'], ['GOOG', 'Dec-07-20', '04:22PM\\xa0\\xa0', 'Airbnb IPO Price Raised, With A Potential Valuation Near $42 Billion'], ['GOOG', 'Dec-07-20', '03:39PM\\xa0\\xa0', \"After talk with Google's Sundar, EU's Jourova says seeks more transparency on fake news\"], ['GOOG', 'Dec-07-20', '01:41PM\\xa0\\xa0', 'CD Projekts Cyberpunk Game Is a Critical Hit Despite Glitches'], ['GOOG', 'Dec-07-20', '01:11PM\\xa0\\xa0', 'Cisco Makes Two Big Acquisitions to Take on Zoom'], ['GOOG', 'Dec-07-20', '01:00PM\\xa0\\xa0', 'California becomes biggest U.S. state to launch virus contact-tracing app'], ['GOOG', 'Dec-07-20', '12:51PM\\xa0\\xa0', 'California becomes biggest U.S. state to launch virus contact-tracing app'], ['GOOG', 'Dec-07-20', '12:30PM\\xa0\\xa0', \"California's CA Notify app to offer statewide exposure notification using Apple and Google's framework\"], ['GOOG', 'Dec-07-20', '12:29PM\\xa0\\xa0', 'Apple Music Now Available on Google Speakers, Expanding Market'], ['GOOG', 'Dec-07-20', '11:51AM\\xa0\\xa0', 'Google adds support for Apple Music to its Google Assistant-enabled smart speakers and displays'], ['GOOG', 'Dec-07-20', '11:44AM\\xa0\\xa0', 'EU sets out search ranking guidelines for Google, Microsoft, platforms'], ['GOOG', 'Dec-07-20', '11:40AM\\xa0\\xa0', 'Google Might Penalize IAC For Misleading Marketing Practices'], ['GOOG', 'Dec-07-20', '09:20AM\\xa0\\xa0', 'How Has Zoom Video Communications Stock Done Since the Beginning of 2020?'], ['GOOG', 'Dec-07-20', '09:00AM\\xa0\\xa0', \"Even After Explosive Growth, The Trade Desk is Still a Buy. Here's Why.\"], ['GOOG', 'Dec-07-20', '08:22AM\\xa0\\xa0', 'Dow Jones Futures Fall, Vaccinations Set To Start: Stock Market Rally Outlook; Apple, Google Are Buys Now'], ['GOOG', 'Dec-07-20', '08:00AM\\xa0\\xa0', 'The Likely Fifth $1 Trillion Company Has 13% Upside, Analysts Say'], ['GOOG', 'Dec-07-20', '07:45AM\\xa0\\xa0', 'Is Google Stock A Buy As Search Advertising Rebounds Amid YouTube, Cloud Growth?'], ['GOOG', 'Dec-07-20', '06:54AM\\xa0\\xa0', 'Facebook To Face Antitrust Lawsuits For Monopoly This Week: Bloomberg'], ['GOOG', 'Dec-07-20', '06:30AM\\xa0\\xa0', 'Snowflake Stock Has More Than Tripled Since Its IPO. CEO Frank Slootman Explains Whats Next.'], ['GOOG', 'Dec-07-20', '04:31AM\\xa0\\xa0', 'Yahoo Finance 2020 Company of the Year: Zoom'], ['GOOG', 'Dec-07-20', '04:25AM\\xa0\\xa0', 'Company of the Year: Kelly Steckelberg, Zoom CFO'], ['GOOG', 'Dec-07-20', '04:24AM\\xa0\\xa0', '2020 Company of the Year: Zoom Video Communications'], ['GOOG', 'Dec-07-20', '04:00AM\\xa0\\xa0', 'U.S., States Poised to Sue Facebook for Monopoly Abuse'], ['GOOG', 'Dec-06-20', '04:11PM\\xa0\\xa0', \"Google removes some IAC browser extensions for 'policy violations'\"], ['GOOG', 'Dec-06-20', '03:54PM\\xa0\\xa0', \"Google removes some IAC browser extensions for 'policy violations'\"], ['GOOG', 'Dec-06-20', '12:08PM\\xa0\\xa0', 'Google Accuses Ask.com Owner IAC Of Browser Hijacking: Wall Street Journal'], ['GOOG', 'Dec-05-20', '09:40AM\\xa0\\xa0', 'Fighting Vaccine Misinformation on Facebook'], ['GOOG', 'Dec-05-20', '09:00AM\\xa0\\xa0', 'These 5 Companies Occupy Almost 600 Million Square Feet of U.S. Real Estate'], ['GOOG', 'Dec-05-20', '08:20AM\\xa0\\xa0', \"TikTok's new generation of millionaires: 'I did it 100% on my own'\"], ['GOOG', 'Dec-05-20', '06:45AM\\xa0\\xa0', \"Did Google's DeepMind Just Revolutionize Medicine?\"], ['GOOG', 'Dec-04-20', '02:13PM\\xa0\\xa0', 'HPE CEO: Sales have gone back to pre-COVID-19 pandemic levels'], ['GOOG', 'Dec-04-20', '11:54AM\\xa0\\xa0', 'Bizarre Google Assistant bug suggests it thinks Siri is a rat'], ['GOOG', 'Dec-04-20', '11:17AM\\xa0\\xa0', 'Google AI Researcher Says She Was Fired for Critical Views'], ['GOOG', 'Dec-04-20', '11:10AM\\xa0\\xa0', 'HPE CEO on Q4 earnings: We exited the year with strong momentum across all businesses'], ['GOOG', 'Dec-04-20', '10:30AM\\xa0\\xa0', 'Deutsche Bank to Move Heart of IT Systems Into Googles Cloud'], ['GOOG', 'Dec-04-20', '10:05AM\\xa0\\xa0', 'Snowflake CEO on first earnings report, data cloud outlook'], ['GOOG', 'Dec-04-20', '09:43AM\\xa0\\xa0', 'Breaking up big tech not the right solution: Box CEO'], ['GOOG', 'Dec-04-20', '09:09AM\\xa0\\xa0', 'Box CEO: Breaking up big tech is not the right solution'], ['GOOG', 'Dec-04-20', '07:30AM\\xa0\\xa0', 'These 3 Recent IPO Stocks Look Especially Promising for 2021'], ['GOOG', 'Dec-04-20', '07:00AM\\xa0\\xa0', \"The Greatest Software-as-a-Service Company You've Never Heard Of\"], ['GOOG', 'Dec-04-20', '06:12AM\\xa0\\xa0', \"3 Popular Robinhood Stocks That I'll Likely Never Sell\"], ['GOOG', 'Dec-04-20', '02:30AM\\xa0\\xa0', 'Google Scientists Abrupt Exit Exposes Rift in Prominent AI Unit'], ['GOOG', 'Dec-04-20', '01:44AM\\xa0\\xa0', 'Alibaba-Backed AutoX First To Test Driverless Cars In China'], ['GOOG', 'Dec-03-20', '11:56PM\\xa0\\xa0', 'Googles Co-Head of Ethical AI Says She Was Fired for Email'], ['GOOG', 'Dec-03-20', '11:42PM\\xa0\\xa0', 'Top 10 S&P 500 Stocks by Index Weight'], ['GOOG', 'Dec-03-20', '10:05PM\\xa0\\xa0', 'Chinese Scientists Claim Breakthrough in Quantum Computing Race'], ['GOOG', 'Dec-03-20', '09:43PM\\xa0\\xa0', 'Leading Google AI Researcher Says Search Engine Giant Fired Her Over Internal Email Critical Of Higher-Ups'], ['GOOG', 'Dec-03-20', '08:42PM\\xa0\\xa0', 'Facebook Accused by Trump Administration of H-1B Visa Abuse'], ['GOOG', 'Dec-03-20', '06:48PM\\xa0\\xa0', 'Top AI ethics researcher says Google fired her; company denies it'], ['GOOG', 'Dec-03-20', '06:12PM\\xa0\\xa0', 'Daily Crunch: Google fires co-lead of its Ethical AI team'], ['GOOG', 'Dec-03-20', '05:34PM\\xa0\\xa0', 'Analyst says economy will broaden into 2021, stimulus will happen'], ['GOOG', 'Dec-03-20', '04:48PM\\xa0\\xa0', 'EUs Digital Services Act Advocates Speak Up'], ['GOOG', 'Dec-03-20', '04:01PM\\xa0\\xa0', \"Tesla's Full Self-Driving Beta Dodges Deer On Dark Dirt Road\"], ['GOOG', 'Dec-03-20', '03:09PM\\xa0\\xa0', 'GOOGL Stock: How To Trade A Bullish Calendar Spread'], ['GOOG', 'Dec-03-20', '03:00PM\\xa0\\xa0', 'Facebook Stock Drops Amid Reports of Imminent Government Legal Action'], ['GOOG', 'Dec-03-20', '12:53PM\\xa0\\xa0', \"Google's co-lead of Ethical AI team says she was fired for sending an email\"], ['GOOG', 'Dec-03-20', '12:44PM\\xa0\\xa0', 'Cable TV Lost Another Million Customers in Q3 -- Sort Of'], ['GOOG', 'Dec-03-20', '12:19PM\\xa0\\xa0', 'Google Nearing EU Clearance to Acquire Fitbit'], ['PFE', 'Dec-09-20', '05:54PM\\xa0\\xa0', \"EXPLAINER-What do the UK cases of allergic reaction mean for Pfizer's COVID-19 vaccine\"], ['PFE', 'Dec-09-20', '05:45PM\\xa0\\xa0', 'Pfizer (PFE) Dips More Than Broader Markets: What You Should Know'], ['PFE', 'Dec-09-20', '05:13PM\\xa0\\xa0', 'U.S. Ranks Behind EU, Australia, U.K. in Vaccine Buys But Says It Will Meet Goal'], ['PFE', 'Dec-09-20', '04:23PM\\xa0\\xa0', 'Pfizer Stock Trips After U.K. Notes Possible Allergic Reactions To Covid Vaccine'], ['PFE', 'Dec-09-20', '04:21PM\\xa0\\xa0', \"Moderna Crumbles: Shares Are 'Fully Valued' With Eightfold Gain In 2020\"], ['PFE', 'Dec-09-20', '03:30PM\\xa0\\xa0', 'U.S. airlines say vaccine cargo could help restart passenger flights'], ['PFE', 'Dec-09-20', '03:02PM\\xa0\\xa0', \"Pfizer and BioNTech's Coronavirus Vaccine Approved in Canada\"], ['PFE', 'Dec-09-20', '02:50PM\\xa0\\xa0', \"Former Allergan CEO: Pfizer's $19.50 COVID-19 vaccine dose price 'is a pretty good bargain'\"], ['PFE', 'Dec-09-20', '02:06PM\\xa0\\xa0', 'Stocks End Lower on Doubts Over Stimulus Talks, Tech Selloff'], ['PFE', 'Dec-09-20', '02:00PM\\xa0\\xa0', 'Covid-19 Is Far More Dangerous Than Any Vaccine'], ['PFE', 'Dec-09-20', '01:54PM\\xa0\\xa0', 'EU drug regulator to use UK data on adverse effects in assessment of Pfizer vaccine'], ['PFE', 'Dec-09-20', '01:51PM\\xa0\\xa0', 'Doctor on getting COVID-19 vaccine: Im going in with absolutely no reservation'], ['PFE', 'Dec-09-20', '01:25PM\\xa0\\xa0', 'British grandmother says she feels great after Pfizer vaccine'], ['PFE', 'Dec-09-20', '01:10PM\\xa0\\xa0', 'Pfizer Stock Trips After U.K. Notes Possible Allergic Reactions To Covid Vaccine'], ['PFE', 'Dec-09-20', '12:37PM\\xa0\\xa0', 'Canada authorizes BioNTech/Pfizer COVID-19 vaccine'], ['PFE', 'Dec-09-20', '12:03PM\\xa0\\xa0', \"Heading into Christmas 'well see a spike on top of a spike': Doctor on COVID spread\"], ['PFE', 'Dec-09-20', '11:18AM\\xa0\\xa0', 'Micron Technology, RCI Hospitality, Pfizer, BioNTech and Moderna highlighted as Zacks Bull and Bear of the Day'], ['PFE', 'Dec-09-20', '11:10AM\\xa0\\xa0', \"Equal-Weight ETFs Leading Latest Market Rally: Here's Why\"], ['PFE', 'Dec-09-20', '11:10AM\\xa0\\xa0', 'Moderna Will Succeed, but Its Stock Already Reflects That, Says Needham'], ['PFE', 'Dec-09-20', '10:41AM\\xa0\\xa0', 'IPO Market Set to Thrive in December'], ['PFE', 'Dec-09-20', '10:09AM\\xa0\\xa0', 'DoorDash IPOs at $102, Vaccine Rally Cooling'], ['PFE', 'Dec-09-20', '09:57AM\\xa0\\xa0', 'Global supply chain tested as COVID-19 vaccines roll out'], ['PFE', 'Dec-09-20', '09:02AM\\xa0\\xa0', 'South African trial of AstraZeneca vaccine still months from efficacy results'], ['PFE', 'Dec-09-20', '08:33AM\\xa0\\xa0', 'US STOCKS-S&P 500 set for record open on vaccine, stimulus bets'], ['PFE', 'Dec-09-20', '08:29AM\\xa0\\xa0', 'Vaccine, financial relief near as coronavirus ravages U.S. health, economy'], ['PFE', 'Dec-09-20', '08:29AM\\xa0\\xa0', \"Pfizer (PFE) Pneumococcal Vaccine BLA Gets FDA's Priority Tag\"], ['PFE', 'Dec-09-20', '08:24AM\\xa0\\xa0', 'UK medicine regulator examining Pfizer vaccine reactions as matter of priority'], ['PFE', 'Dec-09-20', '08:18AM\\xa0\\xa0', 'U.K. Warns That People With Severe Allergic Reactions Should Not Get Covid-19 Vaccine'], ['PFE', 'Dec-09-20', '08:15AM\\xa0\\xa0', 'Teslas Elon Musk Is Moving to Texas. Let the Debate Begin.'], ['PFE', 'Dec-09-20', '08:00AM\\xa0\\xa0', \"Is Pfizer Stock A Buy On The FDA's Promising View Of Its Covid Vaccine?\"], ['PFE', 'Dec-09-20', '07:50AM\\xa0\\xa0', 'Gold Drops From Two-Week High Amid Vaccine News, Stimulus Hopes'], ['PFE', 'Dec-09-20', '07:30AM\\xa0\\xa0', 'Could Pfizer Be a Millionaire-Maker Stock?'], ['PFE', 'Dec-09-20', '07:23AM\\xa0\\xa0', 'How Confident Are Investors? Covid Vaccine Headway, DoorDash IPO, Trading Pfizer'], ['PFE', 'Dec-09-20', '07:21AM\\xa0\\xa0', 'GLOBAL MARKETS-Stocks scale new peaks, sterling awaits last supper on Brexit'], ['PFE', 'Dec-09-20', '07:00AM\\xa0\\xa0', 'FOCUS-Crimped U.S. dry ice supply complicates rural U.S. vaccine release'], ['PFE', 'Dec-09-20', '06:40AM\\xa0\\xa0', 'After Moderna and Pfizer, Which Vaccine Makers May Cross the Finish Line Next?'], ['PFE', 'Dec-09-20', '06:30AM\\xa0\\xa0', 'Not All Vaccine Stocks Are the Best Reopening Picks'], ['PFE', 'Dec-09-20', '06:23AM\\xa0\\xa0', 'Britain advises people with allergy history to avoid Pfizer vaccine'], ['PFE', 'Dec-09-20', '06:12AM\\xa0\\xa0', 'Two reports of allergic reactions on first day of vaccine rollout - UK medical regulator'], ['PFE', 'Dec-09-20', '06:08AM\\xa0\\xa0', \"Here's What Could Make Moderna's COVID Vaccine a Bigger Winner Than Pfizer's\"], ['PFE', 'Dec-09-20', '06:00AM\\xa0\\xa0', 'Corporate America will truly be addressing racial justice when it costs something: Michael Eric Dyson'], ['PFE', 'Dec-09-20', '03:49AM\\xa0\\xa0', \"Russia and China have not sought EMA's authorisation for vaccines\"], ['PFE', 'Dec-09-20', '03:16AM\\xa0\\xa0', 'European shares join global rally; eyes on Brexit talks'], ['PFE', 'Dec-09-20', '01:31AM\\xa0\\xa0', 'Israel to receive initial shipment of Pfizer coronavirus vaccine'], ['PFE', 'Dec-08-20', '08:22PM\\xa0\\xa0', 'BioNTechs COVID-19 Vaccine May Face Stiff Competition, Says 5-Star Analyst'], ['PFE', 'Dec-08-20', '07:50PM\\xa0\\xa0', 'Johnson & Johnson Expects Vaccine Trial Results in January'], ['PFE', 'Dec-08-20', '06:36PM\\xa0\\xa0', 'Gold Down Over Vaccine Hopes'], ['PFE', 'Dec-08-20', '05:44PM\\xa0\\xa0', 'Next Chapter in Covid-19 Era Underway'], ['PFE', 'Dec-08-20', '05:40PM\\xa0\\xa0', 'Pfizer, Moderna Face Public-Relations Hurdle For Covid Vaccines: IBD/TIPP Poll'], ['PFE', 'Dec-08-20', '05:39PM\\xa0\\xa0', 'U.S. Markets Rise as First COVID-19 Vaccine is Administered'], ['PFE', 'Dec-08-20', '05:31PM\\xa0\\xa0', 'AstraZeneca Says Vaccine Blocks Severe Covid-19; Shares Edge Higher'], ['PFE', 'Dec-08-20', '05:30PM\\xa0\\xa0', 'Pfizer Stock Rallies As FDA Appears To Support Covid Vaccine Approval'], ['PFE', 'Dec-08-20', '05:27PM\\xa0\\xa0', 'Should the Trump administration really have bought more Pfizer vaccine doses?'], ['PFE', 'Dec-08-20', '05:16PM\\xa0\\xa0', 'US Stocks Close Higher Tuesday'], ['PFE', 'Dec-08-20', '04:48PM\\xa0\\xa0', \"Pfizer's pneumonia vaccine candidate gets FDA review\"], ['PFE', 'Dec-08-20', '04:45PM\\xa0\\xa0', 'Stock Market Today: Dow Claws Out Gains as U.K. Begins Vaccine Rollout'], ['PFE', 'Dec-08-20', '04:36PM\\xa0\\xa0', 'Dow Jones Gains As Stock Market Reverses Higher On Coronavirus Vaccine Hopes'], ['PFE', 'Dec-08-20', '04:30PM\\xa0\\xa0', 'U.S. FDA Accepts for Priority Review the Biologics License Application for Pfizers Investigational 20-valent Pneumococcal Conjugate Vaccine for Adults 18 Years of Age and Older'], ['PFE', 'Dec-08-20', '04:17PM\\xa0\\xa0', 'US STOCKS-Wall Street closes higher on vaccine lift; S&P 500, Nasdaq at records'], ['PFE', 'Dec-08-20', '04:02PM\\xa0\\xa0', 'What to expect from the FDAs important COVID-19 vaccine meeting Thursday'], ['PFE', 'Dec-08-20', '04:00PM\\xa0\\xa0', 'US STOCKS-Wall St closes higher on vaccine lift'], ['PFE', 'Dec-08-20', '03:43PM\\xa0\\xa0', \"'We should be moving forward with this glimmer of hope we have: Doctor on vaccine timetable\"], ['PFE', 'Dec-08-20', '03:31PM\\xa0\\xa0', \"Jim Cramer Says Stock Market Anticipates 2021 Vaccine 'Glut'\"], ['PFE', 'Dec-08-20', '02:41PM\\xa0\\xa0', 'Is It Time to Pounce on Covid Vaccine Stocks?'], ['PFE', 'Dec-08-20', '02:28PM\\xa0\\xa0', 'Nasdaq and S&P 500 End at Records; Stocks Rise on Stimulus Hopes'], ['PFE', 'Dec-08-20', '01:56PM\\xa0\\xa0', 'Women Take the Lead in Vaccine Development'], ['PFE', 'Dec-08-20', '01:47PM\\xa0\\xa0', 'Fmr. HHS Secretary on COVID-19 vaccine: The next steps are a logistical nightmare'], ['PFE', 'Dec-08-20', '01:41PM\\xa0\\xa0', 'Dow Jones Rallies 100 Points; Apple Eyes New Buy Point; Tesla Strong Despite Stock-Sale Plans'], ['PFE', 'Dec-08-20', '01:26PM\\xa0\\xa0', 'Coronavirus update: Pfizer-BioNTech and AstraZeneca data revealed; Senate hearing highlights medical uncertainties'], ['PFE', 'Dec-08-20', '01:23PM\\xa0\\xa0', 'AstraZeneca Says Vaccine Blocks Severe Covid-19; Shares Edge Higher'], ['PFE', 'Dec-08-20', '01:16PM\\xa0\\xa0', 'Pfizer says could vaccinate a \"couple of million\" Brazilians in first quarter'], ['PFE', 'Dec-08-20', '01:09PM\\xa0\\xa0', 'Vaccines Alone Arent Enough to Beat Covid-19'], ['PFE', 'Dec-08-20', '01:09PM\\xa0\\xa0', 'AstraZeneca-Oxford COVID shot is safe and effective, full trial data show'], ['PFE', 'Dec-08-20', '12:42PM\\xa0\\xa0', 'US STOCKS-Nasdaq touches record high; Dow, S&P 500 lifted by J&J'], ['PFE', 'Dec-08-20', '12:42PM\\xa0\\xa0', 'EXPLAINER-How France will distribute COVID-19 vaccines'], ['PFE', 'Dec-08-20', '12:37PM\\xa0\\xa0', 'EXPLAINER-I just got a COVID-19 vaccine. Now what?'], ['PFE', 'Dec-08-20', '12:22PM\\xa0\\xa0', \"Canada is confident that there won't be any disruption to vaccine deliveries - govt minister\"], ['PFE', 'Dec-08-20', '11:53AM\\xa0\\xa0', \"CDC advisers to review data on Pfizer-BioNTech's COVID-19 vaccine\"], ['PFE', 'Dec-08-20', '11:53AM\\xa0\\xa0', 'FDA Calls Pfizer/BioNTech Covid Vaccine Effective and Safe'], ['PFE', 'Dec-08-20', '11:49AM\\xa0\\xa0', 'Pfizer says it is committed to Canadian vaccine agreements ahead of U.S. executive order'], ['PFE', 'Dec-08-20', '11:43AM\\xa0\\xa0', 'U.S. will face a very dark winter as COVID-19 cases spike: Doctor'], ['PFE', 'Dec-08-20', '10:55AM\\xa0\\xa0', 'US STOCKS-Wall St slips on rising coronavirus cases, Tesla drags Nasdaq lower'], ['PFE', 'Dec-08-20', '10:50AM\\xa0\\xa0', 'Oil Edges Lower With Virus Risks Hampering Demand Outlook'], ['PFE', 'Dec-08-20', '10:39AM\\xa0\\xa0', \"Foreign diplomats to tour India's COVID-19 vaccine facilities\"], ['PFE', 'Dec-08-20', '10:25AM\\xa0\\xa0', 'U.S. suffers deadliest week from coronavirus since pandemic broke out'], ['PFE', 'Dec-08-20', '10:23AM\\xa0\\xa0', 'Pfizer CEO confident of getting U.S. advisory panel nod for COVID-19 vaccine'], ['PFE', 'Dec-08-20', '10:06AM\\xa0\\xa0', \"Pfizer's Coronavirus Vaccine Is 52.4% Effective After First Dose\"], ['PFE', 'Dec-08-20', '09:54AM\\xa0\\xa0', 'Company News for Dec 8, 2020'], ['PFE', 'Dec-08-20', '09:47AM\\xa0\\xa0', 'DHL wins German regional contract to deliver COVID vaccines'], ['PFE', 'Dec-08-20', '09:41AM\\xa0\\xa0', 'Pfizer COVID Vaccine Gets FDA Backing Ahead of Emergency Authorization Meeting'], ['PFE', 'Dec-08-20', '09:32AM\\xa0\\xa0', 'FDA highlights safety profile of BioNTech/Pfizer vaccine in advance of advisory committee meeting'], ['PFE', 'Dec-08-20', '09:29AM\\xa0\\xa0', 'U.K. Begins First Mass Covid Vaccination Program. Now the Hard Part Is the Logistics.'], ['PFE', 'Dec-08-20', '09:19AM\\xa0\\xa0', 'EXPLAINER-I just got a COVID-19 vaccine. Now what?'], ['PFE', 'Dec-08-20', '08:46AM\\xa0\\xa0', 'Pfizer (PFE) Up 14% in 3 Months on COVID-19 Vaccine Progress'], ['PFE', 'Dec-08-20', '08:38AM\\xa0\\xa0', 'U.S. seeks to secure vaccine supply as Britain starts first COVID-19 shots'], ['PFE', 'Dec-08-20', '08:16AM\\xa0\\xa0', 'U.S. Health Officials Push for Quick Vaccine Rollout. Heres the Timeline.'], ['PFE', 'Dec-08-20', '08:12AM\\xa0\\xa0', 'Britain Begins First Mass Covid-19 Vaccination Program'], ['PFE', 'Dec-08-20', '07:31AM\\xa0\\xa0', \"UK's initial AstraZeneca shots will come from Europe, taskforce says\"], ['PFE', 'Dec-08-20', '07:28AM\\xa0\\xa0', 'Pfizer Vaccine, Tesla, Uber, Stitch Fix - 5 Things You Must Know Tuesday'], ['PFE', 'Dec-08-20', '07:00AM\\xa0\\xa0', 'The FDAs Slowness on a Covid Vaccine Isnt\\xa0the Issue'], ['FB', 'Dec-09-20', '07:52PM\\xa0\\xa0', 'Dow Jones Futures: Stock Market Rally Sell-Off Is Good News; DoorDash IPO Flies, Airbnb Prices High, This IPO Breaks Out'], ['FB', 'Dec-09-20', '07:23PM\\xa0\\xa0', 'Facebook Risks Instagram-WhatsApp Breakup in Antitrust Case'], ['FB', 'Dec-09-20', '06:41PM\\xa0\\xa0', 'Facebooks Great Unwinding May Have Just Begun'], ['FB', 'Dec-09-20', '06:11PM\\xa0\\xa0', 'Is FB Stock A Buy As The Government Aims To Break Up Facebook?'], ['FB', 'Dec-09-20', '05:42PM\\xa0\\xa0', 'Breaking down 2020s impact on the U.S. government'], ['FB', 'Dec-09-20', '05:32PM\\xa0\\xa0', 'Will Facebook or Google be broken up in 2021?'], ['FB', 'Dec-09-20', '05:26PM\\xa0\\xa0', 'Major US lawsuits seek break up of Facebook'], ['FB', 'Dec-09-20', '05:05PM\\xa0\\xa0', 'Facebook Slips After FTC, States Sue to Break Up Social Media Giant'], ['FB', 'Dec-09-20', '04:36PM\\xa0\\xa0', 'EXPLAINER-What to expect as Facebook battles U.S. lawsuits over its market power'], ['FB', 'Dec-09-20', '04:33PM\\xa0\\xa0', 'The FTC wants to break up Facebook'], ['FB', 'Dec-09-20', '04:33PM\\xa0\\xa0', 'Section 230 Changes Could Come As Social Media Stocks Get Low Marks For Impartiality'], ['FB', 'Dec-09-20', '04:32PM\\xa0\\xa0', 'Two Antitrust Lawsuits Threaten To Unwind Big Facebook Acquisitions'], ['FB', 'Dec-09-20', '04:24PM\\xa0\\xa0', 'Stock Market Today: Stocks Retreat on Stimulus Stalemate'], ['FB', 'Dec-09-20', '04:22PM\\xa0\\xa0', 'US STOCKS-Wall Street ends lower on stimulus uncertainty, Facebook weighs'], ['FB', 'Dec-09-20', '04:11PM\\xa0\\xa0', 'RPT-US STOCKS-Wall Street ends lower on stimulus uncertainty, Facebook weighs'], ['FB', 'Dec-09-20', '04:00PM\\xa0\\xa0', 'US STOCKS-Wall Street ends lower on stimulus uncertainty, Facebook weighs'], ['FB', 'Dec-09-20', '03:49PM\\xa0\\xa0', 'States, FTC suing Facebook for alleged antitrust abuses'], ['FB', 'Dec-09-20', '03:48PM\\xa0\\xa0', '5 Companies Owned by FB'], ['FB', 'Dec-09-20', '03:47PM\\xa0\\xa0', 'Top 5 Shareholders of Facebook'], ['FB', 'Dec-09-20', '03:46PM\\xa0\\xa0', 'How Facebook Makes Money: Advertising, Payments, and Other Fees'], ['FB', 'Dec-09-20', '03:46PM\\xa0\\xa0', 'Facebook Earnings: What Happened with FB'], ['FB', 'Dec-09-20', '03:45PM\\xa0\\xa0', 'FTC seeks to break up Facebook, alleging illegal monopoly'], ['FB', 'Dec-09-20', '03:26PM\\xa0\\xa0', 'Facebook Is Hit With Lawsuits by 48 States, FTC'], ['FB', 'Dec-09-20', '03:17PM\\xa0\\xa0', 'Facebook hit with antitrust suits that seek to unwind Instagram, WhatsApp acquisitions'], ['FB', 'Dec-09-20', '03:15PM\\xa0\\xa0', 'Facebook sued by FTC, 48 state attorneys general'], ['FB', 'Dec-09-20', '03:13PM\\xa0\\xa0', 'FTC and 48 States Sue Facebook, Seeking to Force Divestiture of Instagram, WhatsApp'], ['FB', 'Dec-09-20', '03:10PM\\xa0\\xa0', 'US STOCKS-Wall Street falls on stimulus stall, Facebook weighs'], ['FB', 'Dec-09-20', '02:58PM\\xa0\\xa0', 'Facebook hit with massive antitrust lawsuit from 46 states'], ['FB', 'Dec-09-20', '02:43PM\\xa0\\xa0', \"Google's Ethics Effort Is Looking Rather Evil\"], ['FB', 'Dec-09-20', '02:38PM\\xa0\\xa0', 'Facebook sued by FTC, 48 attorneys general alleging it operates an illegal monopoly'], ['FB', 'Dec-09-20', '02:36PM\\xa0\\xa0', 'Facebook Sued by U.S., States in Antitrust Case, FTC Says'], ['FB', 'Dec-09-20', '12:01PM\\xa0\\xa0', 'YouTube to Delete New False Election Videos -- Even Trumps'], ['FB', 'Dec-09-20', '11:18AM\\xa0\\xa0', 'Facebook (FB) Hopes to Launch Digital Currency in 2021'], ['FB', 'Dec-09-20', '10:00AM\\xa0\\xa0', 'Investing In Stocks: Timely Tips From Rudolph, Frosty And Scrooge'], ['FB', 'Dec-09-20', '07:15AM\\xa0\\xa0', \"Is Pinterest Stock A Buy Right Now? Here's What Earnings, Charts Show\"], ['FB', 'Dec-09-20', '04:00AM\\xa0\\xa0', 'Company of the Year: How Zoom Changed U.S. Education'], ['FB', 'Dec-09-20', '03:30AM\\xa0\\xa0', 'Apple Refuses To Concede To Facebook, Other Advertisers Over Tracking Users Without Consent'], ['FB', 'Dec-08-20', '11:27PM\\xa0\\xa0', \"Mark Zuckerberg Told UK Facebook Will Withdraw Investments Over 'Anti-Tech' Regulations\"], ['FB', 'Dec-08-20', '07:15PM\\xa0\\xa0', 'Facebooks (NASDAQ:FB) Strong Fundamentals Tick A Lot Of Boxes'], ['FB', 'Dec-08-20', '05:00PM\\xa0\\xa0', 'How Useful Is Huaweis New $1,445 Phone Without Google? Review'], ['FB', 'Dec-08-20', '02:40PM\\xa0\\xa0', 'Liberal Santa makes kid cry by telling him he wont give him a gun for Christmas  a Nerf gun, that is'], ['FB', 'Dec-08-20', '12:47PM\\xa0\\xa0', 'Why Amazon was invented for the pandemic, and how AWS could be the most valuable company in the world'], ['FB', 'Dec-08-20', '12:17PM\\xa0\\xa0', 'Google Lawsuits by States Coming in Weeks, Texas AG Says'], ['FB', 'Dec-08-20', '11:16AM\\xa0\\xa0', 'Cisco Updates Webex Video Conferencing in Bid to Fend Off Zoom'], ['FB', 'Dec-08-20', '10:46AM\\xa0\\xa0', 'Is Shopify Stock A Buy As Online Spending Soars During Pandemic?'], ['FB', 'Dec-08-20', '10:23AM\\xa0\\xa0', \"Understanding Facebook's Unusual Options Activity\"], ['FB', 'Dec-08-20', '10:18AM\\xa0\\xa0', 'Facebook Gets Price-Target Lift; Eyes 2021 Cryptocurrency Launch'], ['FB', 'Dec-08-20', '10:01AM\\xa0\\xa0', 'WhatsApp Gets Shopping Carts'], ['FB', 'Dec-08-20', '08:40AM\\xa0\\xa0', 'ECB Is Making Waves With Digital Currency Plans. That Could Be Bad News for European Banks.'], ['FB', 'Dec-08-20', '08:37AM\\xa0\\xa0', \"Mark Zuckerberg threatened to end Facebook's UK investment in private 2018 meeting with digital chief, warning over 'anti-tech' tone\"], ['FB', 'Dec-08-20', '06:06AM\\xa0\\xa0', 'Is Wall Street Tiring of the FAANG Stocks?'], ['FB', 'Dec-08-20', '05:00AM\\xa0\\xa0', 'Anti-Vaxxer Books Top Search Results at Amazon, Barnes & Noble'], ['FB', 'Dec-08-20', '04:00AM\\xa0\\xa0', 'Company of the Year: How Zoom overcame security flaws in 2020'], ['FB', 'Dec-08-20', '04:00AM\\xa0\\xa0', 'Company of the Year: Aparna Bawa, Zoom COO'], ['FB', 'Dec-08-20', '02:27AM\\xa0\\xa0', 'Gates Calls Indias Digital Finance Approach a Global Model'], ['FB', 'Dec-07-20', '10:48PM\\xa0\\xa0', 'Australia to make Facebook, Google pay news outlets for content'], ['FB', 'Dec-07-20', '10:40PM\\xa0\\xa0', 'Australia to make Facebook, Google pay news outlets for content'], ['FB', 'Dec-07-20', '07:00PM\\xa0\\xa0', 'Is GBTC Stock A Good Buy After Bitcoin Stock Play Charges Past Buy Point'], ['FB', 'Dec-07-20', '04:38PM\\xa0\\xa0', \"Covid Science Doesn't Care About Rick Santellis\\xa0Feelings\"], ['FB', 'Dec-07-20', '04:10PM\\xa0\\xa0', 'Stock market rally amid COVID-19 creates distorted economy: Robert Reich'], ['FB', 'Dec-07-20', '03:10PM\\xa0\\xa0', 'These 2 FAANG Leaders Will Drive the Nasdaq in 2021'], ['FB', 'Dec-07-20', '03:06PM\\xa0\\xa0', 'Dow Jones Falls 200 Points, Weighed Down By Intel; Nasdaq Led By Apple, Facebook, Adobe; 3 Marijuana Stocks To Watch'], ['FB', 'Dec-07-20', '02:03PM\\xa0\\xa0', 'Facebook Stock And Options Trading: How To Play A Breakout With A Long Straddle'], ['FB', 'Dec-07-20', '01:23PM\\xa0\\xa0', 'Dow Jones Falls Over 100 Points But Nasdaq Leads Market; Tesla At New Highs'], ['FB', 'Dec-07-20', '01:15PM\\xa0\\xa0', 'New Stablecoin Bill Raises Concerns Among the Crypto Community'], ['FB', 'Dec-07-20', '09:37AM\\xa0\\xa0', 'Our Company of the Year is a good investment, even a year later'], ['FB', 'Dec-07-20', '09:00AM\\xa0\\xa0', 'What If Data Scientists Had Licenses Like Lawyers?'], ['FB', 'Dec-07-20', '08:00AM\\xa0\\xa0', 'The Likely Fifth $1 Trillion Company Has 13% Upside, Analysts Say'], ['FB', 'Dec-07-20', '06:54AM\\xa0\\xa0', 'Facebook To Face Antitrust Lawsuits For Monopoly This Week: Bloomberg'], ['FB', 'Dec-07-20', '05:04AM\\xa0\\xa0', 'Zuckerberg Needs to Stop Worrying About His Investors'], ['FB', 'Dec-07-20', '04:25AM\\xa0\\xa0', 'Company of the Year: Kelly Steckelberg, Zoom CFO'], ['FB', 'Dec-07-20', '04:00AM\\xa0\\xa0', 'U.S., States Poised to Sue Facebook for Monopoly Abuse'], ['FB', 'Dec-05-20', '06:25PM\\xa0\\xa0', 'These Are The 5 Best Stocks To Buy And Watch Now'], ['FB', 'Dec-05-20', '12:18PM\\xa0\\xa0', 'Top 10 Stocks Americans Searched The Most in 2020'], ['FB', 'Dec-05-20', '09:40AM\\xa0\\xa0', 'Fighting Vaccine Misinformation on Facebook'], ['FB', 'Dec-05-20', '08:20AM\\xa0\\xa0', \"TikTok's new generation of millionaires: 'I did it 100% on my own'\"], ['FB', 'Dec-04-20', '05:07PM\\xa0\\xa0', 'Digital Privacy Is a Great IdeaExcept When It Isnt'], ['FB', 'Dec-04-20', '04:58PM\\xa0\\xa0', 'DOJ Alleges Facebook Discriminated Against U.S. Workers'], ['FB', 'Dec-04-20', '01:04PM\\xa0\\xa0', 'Dont Underestimate the Impact of Diem on Facebook Stock'], ['FB', 'Dec-04-20', '10:23AM\\xa0\\xa0', \"Analyzing Facebook's Unusual Options Activity\"], ['FB', 'Dec-04-20', '09:43AM\\xa0\\xa0', 'Breaking up big tech not the right solution: Box CEO'], ['FB', 'Dec-04-20', '09:09AM\\xa0\\xa0', 'Box CEO: Breaking up big tech is not the right solution'], ['FB', 'Dec-04-20', '05:51AM\\xa0\\xa0', 'Got $300? 3 Surefire Stocks to Buy for a Young Bull Market'], ['FB', 'Dec-04-20', '03:00AM\\xa0\\xa0', 'Sick of Roaming Fees? Now Your Carrier Is Hurting Too'], ['FB', 'Dec-03-20', '11:56PM\\xa0\\xa0', 'Googles Co-Head of Ethical AI Says She Was Fired for Email'], ['FB', 'Dec-03-20', '11:42PM\\xa0\\xa0', 'Top 10 S&P 500 Stocks by Index Weight'], ['FB', 'Dec-03-20', '08:42PM\\xa0\\xa0', 'Facebook Accused by Trump Administration of H-1B Visa Abuse'], ['FB', 'Dec-03-20', '06:50PM\\xa0\\xa0', 'Justice Department accuses Facebook of favoring foreign workers'], ['FB', 'Dec-03-20', '06:12PM\\xa0\\xa0', 'DOJ Sues Facebook, Alleges Discrimination Against U.S. Workers'], ['FB', 'Dec-03-20', '05:56PM\\xa0\\xa0', 'What was your Oh, sh! moment? People open up about when they first recognized the gravity of the coronavirus outbreak'], ['FB', 'Dec-03-20', '05:34PM\\xa0\\xa0', 'Analyst says economy will broaden into 2021, stimulus will happen'], ['FB', 'Dec-03-20', '04:22PM\\xa0\\xa0', 'Trump Administration Sues Facebook, Alleging It Discriminated Against U.S. Workers'], ['FB', 'Dec-03-20', '03:00PM\\xa0\\xa0', 'Facebook Stock Drops Amid Reports of Imminent Government Legal Action'], ['FB', 'Dec-03-20', '02:44PM\\xa0\\xa0', 'Justice Department accuses Facebook of discriminating against U.S. workers'], ['FB', 'Dec-03-20', '12:57PM\\xa0\\xa0', 'Facebook could soon face antitrust lawsuit from 20 to 30 states'], ['FB', 'Dec-03-20', '11:38AM\\xa0\\xa0', 'The Zacks Analyst Blog Highlights: Facebook, Netflix, AbbVie, American Airlines and Micron Technology'], ['FB', 'Dec-03-20', '11:24AM\\xa0\\xa0', 'Facebooks Clegg Says Biden, Allies Must Unite Against China'], ['FB', 'Dec-03-20', '11:07AM\\xa0\\xa0', 'Facebook Faces Antitrust Lawsuit From as Many as 40 U.S. States'], ['FB', 'Dec-03-20', '10:30AM\\xa0\\xa0', 'Facebook Will Remove Misinforming Posts About Covid-19 Vaccine'], ['FB', 'Dec-03-20', '09:15AM\\xa0\\xa0', \"Facebook's Latest Challenge Is a Gift for Pinterest and Snap\"]]\n"
          ],
          "name": "stdout"
        }
      ]
    },
    {
      "cell_type": "code",
      "metadata": {
        "id": "DJrzmIUOHIGz"
      },
      "source": [
        ""
      ],
      "execution_count": 6,
      "outputs": []
    },
    {
      "cell_type": "markdown",
      "metadata": {
        "id": "pC7Pc9oZ9vey"
      },
      "source": [
        "# Sentiment Analysis"
      ]
    },
    {
      "cell_type": "code",
      "metadata": {
        "colab": {
          "base_uri": "https://localhost:8080/"
        },
        "id": "tNl4-1KX8WY1",
        "outputId": "fc9c61d4-66c9-4978-ad6d-2382062a8f47"
      },
      "source": [
        "import nltk\r\n",
        "nltk.download('vader_lexicon')\r\n",
        "\r\n",
        "from nltk.sentiment.vader import SentimentIntensityAnalyzer\r\n",
        "vader = SentimentIntensityAnalyzer()\r\n",
        "\r\n",
        "import pandas as pd\r\n"
      ],
      "execution_count": 7,
      "outputs": [
        {
          "output_type": "stream",
          "text": [
            "[nltk_data] Downloading package vader_lexicon to /root/nltk_data...\n",
            "[nltk_data]   Package vader_lexicon is already up-to-date!\n"
          ],
          "name": "stdout"
        },
        {
          "output_type": "stream",
          "text": [
            "/usr/local/lib/python3.6/dist-packages/nltk/twitter/__init__.py:20: UserWarning: The twython library has not been installed. Some functionality from the twitter package will not be available.\n",
            "  warnings.warn(\"The twython library has not been installed. \"\n"
          ],
          "name": "stderr"
        }
      ]
    },
    {
      "cell_type": "code",
      "metadata": {
        "colab": {
          "base_uri": "https://localhost:8080/",
          "height": 202
        },
        "id": "W--rq_5G_bC7",
        "outputId": "384709de-23df-4f2b-ce07-62895f7259ad"
      },
      "source": [
        "df = pd.DataFrame(parsed_data, columns=['ticker','date','time','title'])\r\n",
        "df.head()"
      ],
      "execution_count": 8,
      "outputs": [
        {
          "output_type": "execute_result",
          "data": {
            "text/html": [
              "<div>\n",
              "<style scoped>\n",
              "    .dataframe tbody tr th:only-of-type {\n",
              "        vertical-align: middle;\n",
              "    }\n",
              "\n",
              "    .dataframe tbody tr th {\n",
              "        vertical-align: top;\n",
              "    }\n",
              "\n",
              "    .dataframe thead th {\n",
              "        text-align: right;\n",
              "    }\n",
              "</style>\n",
              "<table border=\"1\" class=\"dataframe\">\n",
              "  <thead>\n",
              "    <tr style=\"text-align: right;\">\n",
              "      <th></th>\n",
              "      <th>ticker</th>\n",
              "      <th>date</th>\n",
              "      <th>time</th>\n",
              "      <th>title</th>\n",
              "    </tr>\n",
              "  </thead>\n",
              "  <tbody>\n",
              "    <tr>\n",
              "      <th>0</th>\n",
              "      <td>AMZN</td>\n",
              "      <td>Dec-09-20</td>\n",
              "      <td>07:23PM</td>\n",
              "      <td>Facebook Risks Instagram-WhatsApp Breakup in A...</td>\n",
              "    </tr>\n",
              "    <tr>\n",
              "      <th>1</th>\n",
              "      <td>AMZN</td>\n",
              "      <td>Dec-09-20</td>\n",
              "      <td>04:40PM</td>\n",
              "      <td>Will Amazon Or Shopify Stock Grow More By 2022?</td>\n",
              "    </tr>\n",
              "    <tr>\n",
              "      <th>2</th>\n",
              "      <td>AMZN</td>\n",
              "      <td>Dec-09-20</td>\n",
              "      <td>04:07PM</td>\n",
              "      <td>Cloud Stocks To Watch: Fast-Growing Real Estat...</td>\n",
              "    </tr>\n",
              "    <tr>\n",
              "      <th>3</th>\n",
              "      <td>AMZN</td>\n",
              "      <td>Dec-09-20</td>\n",
              "      <td>03:40PM</td>\n",
              "      <td>Microsoft, Unilever and a Finnish oil refiner ...</td>\n",
              "    </tr>\n",
              "    <tr>\n",
              "      <th>4</th>\n",
              "      <td>AMZN</td>\n",
              "      <td>Dec-09-20</td>\n",
              "      <td>03:26PM</td>\n",
              "      <td>Facebook Is Hit With Lawsuits by 46 States and...</td>\n",
              "    </tr>\n",
              "  </tbody>\n",
              "</table>\n",
              "</div>"
            ],
            "text/plain": [
              "  ticker  ...                                              title\n",
              "0   AMZN  ...  Facebook Risks Instagram-WhatsApp Breakup in A...\n",
              "1   AMZN  ...    Will Amazon Or Shopify Stock Grow More By 2022?\n",
              "2   AMZN  ...  Cloud Stocks To Watch: Fast-Growing Real Estat...\n",
              "3   AMZN  ...  Microsoft, Unilever and a Finnish oil refiner ...\n",
              "4   AMZN  ...  Facebook Is Hit With Lawsuits by 46 States and...\n",
              "\n",
              "[5 rows x 4 columns]"
            ]
          },
          "metadata": {
            "tags": []
          },
          "execution_count": 8
        }
      ]
    },
    {
      "cell_type": "code",
      "metadata": {
        "colab": {
          "base_uri": "https://localhost:8080/"
        },
        "id": "Dk-1-ZbqAjxr",
        "outputId": "8a4dc352-6467-49b8-ef1e-c411ba3e4b9e"
      },
      "source": [
        "print(vader.polarity_scores(\"Hi Liz, thank you for having phone interview with you. Even though you have some valuable and outstanding skills and assests, unfortunatelly there are more appropriate candidates for this position. We can not move forward with you for this job position.\"))"
      ],
      "execution_count": 9,
      "outputs": [
        {
          "output_type": "stream",
          "text": [
            "{'neg': 0.0, 'neu': 0.798, 'pos': 0.202, 'compound': 0.8625}\n"
          ],
          "name": "stdout"
        }
      ]
    },
    {
      "cell_type": "code",
      "metadata": {
        "colab": {
          "base_uri": "https://localhost:8080/"
        },
        "id": "LccQubODBmSG",
        "outputId": "93663d51-a934-45d8-c3e1-3fb2c0324542"
      },
      "source": [
        "print(vader.polarity_scores(\"Alex was infected virus, therefore he couldn't join the meeting today\"))"
      ],
      "execution_count": 10,
      "outputs": [
        {
          "output_type": "stream",
          "text": [
            "{'neg': 0.361, 'neu': 0.639, 'pos': 0.0, 'compound': -0.6234}\n"
          ],
          "name": "stdout"
        }
      ]
    },
    {
      "cell_type": "code",
      "metadata": {
        "colab": {
          "base_uri": "https://localhost:8080/"
        },
        "id": "6nreSUxzB1or",
        "outputId": "e14c088e-fb87-4f40-ef6f-075b103ec8eb"
      },
      "source": [
        "print(vader.polarity_scores(\"You can trust me, I am expertise on financial analysis.\"))"
      ],
      "execution_count": 11,
      "outputs": [
        {
          "output_type": "stream",
          "text": [
            "{'neg': 0.0, 'neu': 0.708, 'pos': 0.292, 'compound': 0.5106}\n"
          ],
          "name": "stdout"
        }
      ]
    },
    {
      "cell_type": "code",
      "metadata": {
        "colab": {
          "base_uri": "https://localhost:8080/"
        },
        "id": "k2rXPei3CBer",
        "outputId": "db5de3df-4124-400b-e486-3f049459c15d"
      },
      "source": [
        "print(vader.polarity_scores(\"I feel myself good when I watch scifiction movies\"))"
      ],
      "execution_count": 12,
      "outputs": [
        {
          "output_type": "stream",
          "text": [
            "{'neg': 0.0, 'neu': 0.674, 'pos': 0.326, 'compound': 0.4404}\n"
          ],
          "name": "stdout"
        }
      ]
    },
    {
      "cell_type": "code",
      "metadata": {
        "colab": {
          "base_uri": "https://localhost:8080/"
        },
        "id": "9VaRTGjmCPd7",
        "outputId": "0cc03183-fec6-49dc-df3d-f1d7d8bbcd00"
      },
      "source": [
        "print(vader.polarity_scores(\"I think, one apple a day keeps you away from doctor!\"))"
      ],
      "execution_count": 13,
      "outputs": [
        {
          "output_type": "stream",
          "text": [
            "{'neg': 0.0, 'neu': 1.0, 'pos': 0.0, 'compound': 0.0}\n"
          ],
          "name": "stdout"
        }
      ]
    },
    {
      "cell_type": "code",
      "metadata": {
        "colab": {
          "base_uri": "https://localhost:8080/"
        },
        "id": "7mCWHGb9Cmzr",
        "outputId": "472819d5-0e00-4d5f-c70e-4ac87667f1aa"
      },
      "source": [
        "print(vader.polarity_scores(\"I love you\"))"
      ],
      "execution_count": 14,
      "outputs": [
        {
          "output_type": "stream",
          "text": [
            "{'neg': 0.0, 'neu': 0.192, 'pos': 0.808, 'compound': 0.6369}\n"
          ],
          "name": "stdout"
        }
      ]
    },
    {
      "cell_type": "code",
      "metadata": {
        "id": "OS2v3gKKD32b"
      },
      "source": [
        "function = lambda title: vader.polarity_scores(title)['compound']"
      ],
      "execution_count": 15,
      "outputs": []
    },
    {
      "cell_type": "code",
      "metadata": {
        "id": "xX1_TWDlCvyi"
      },
      "source": [
        "df['compound'] = df['title'].apply(function)"
      ],
      "execution_count": 16,
      "outputs": []
    },
    {
      "cell_type": "code",
      "metadata": {
        "colab": {
          "base_uri": "https://localhost:8080/",
          "height": 202
        },
        "id": "4tgTyKbADfwM",
        "outputId": "4c6d5d52-4c62-4d85-b988-dc1ef55f71ea"
      },
      "source": [
        "df.head()"
      ],
      "execution_count": 17,
      "outputs": [
        {
          "output_type": "execute_result",
          "data": {
            "text/html": [
              "<div>\n",
              "<style scoped>\n",
              "    .dataframe tbody tr th:only-of-type {\n",
              "        vertical-align: middle;\n",
              "    }\n",
              "\n",
              "    .dataframe tbody tr th {\n",
              "        vertical-align: top;\n",
              "    }\n",
              "\n",
              "    .dataframe thead th {\n",
              "        text-align: right;\n",
              "    }\n",
              "</style>\n",
              "<table border=\"1\" class=\"dataframe\">\n",
              "  <thead>\n",
              "    <tr style=\"text-align: right;\">\n",
              "      <th></th>\n",
              "      <th>ticker</th>\n",
              "      <th>date</th>\n",
              "      <th>time</th>\n",
              "      <th>title</th>\n",
              "      <th>compound</th>\n",
              "    </tr>\n",
              "  </thead>\n",
              "  <tbody>\n",
              "    <tr>\n",
              "      <th>0</th>\n",
              "      <td>AMZN</td>\n",
              "      <td>Dec-09-20</td>\n",
              "      <td>07:23PM</td>\n",
              "      <td>Facebook Risks Instagram-WhatsApp Breakup in A...</td>\n",
              "      <td>-0.2732</td>\n",
              "    </tr>\n",
              "    <tr>\n",
              "      <th>1</th>\n",
              "      <td>AMZN</td>\n",
              "      <td>Dec-09-20</td>\n",
              "      <td>04:40PM</td>\n",
              "      <td>Will Amazon Or Shopify Stock Grow More By 2022?</td>\n",
              "      <td>0.1779</td>\n",
              "    </tr>\n",
              "    <tr>\n",
              "      <th>2</th>\n",
              "      <td>AMZN</td>\n",
              "      <td>Dec-09-20</td>\n",
              "      <td>04:07PM</td>\n",
              "      <td>Cloud Stocks To Watch: Fast-Growing Real Estat...</td>\n",
              "      <td>0.0000</td>\n",
              "    </tr>\n",
              "    <tr>\n",
              "      <th>3</th>\n",
              "      <td>AMZN</td>\n",
              "      <td>Dec-09-20</td>\n",
              "      <td>03:40PM</td>\n",
              "      <td>Microsoft, Unilever and a Finnish oil refiner ...</td>\n",
              "      <td>0.1779</td>\n",
              "    </tr>\n",
              "    <tr>\n",
              "      <th>4</th>\n",
              "      <td>AMZN</td>\n",
              "      <td>Dec-09-20</td>\n",
              "      <td>03:26PM</td>\n",
              "      <td>Facebook Is Hit With Lawsuits by 46 States and...</td>\n",
              "      <td>-0.1531</td>\n",
              "    </tr>\n",
              "  </tbody>\n",
              "</table>\n",
              "</div>"
            ],
            "text/plain": [
              "  ticker  ... compound\n",
              "0   AMZN  ...  -0.2732\n",
              "1   AMZN  ...   0.1779\n",
              "2   AMZN  ...   0.0000\n",
              "3   AMZN  ...   0.1779\n",
              "4   AMZN  ...  -0.1531\n",
              "\n",
              "[5 rows x 5 columns]"
            ]
          },
          "metadata": {
            "tags": []
          },
          "execution_count": 17
        }
      ]
    },
    {
      "cell_type": "markdown",
      "metadata": {
        "id": "lGYmFgbkEy3n"
      },
      "source": [
        "# Visualisation of Sentiment Analysis"
      ]
    },
    {
      "cell_type": "code",
      "metadata": {
        "id": "Tfdsi9RPEQqL"
      },
      "source": [
        "df['date'] = pd.to_datetime(df.date).dt.date"
      ],
      "execution_count": 18,
      "outputs": []
    },
    {
      "cell_type": "code",
      "metadata": {
        "id": "gCix313EEiLq"
      },
      "source": [
        "import matplotlib.pyplot as plt\r\n",
        "mean_df = df.groupby(['ticker','date']).mean()"
      ],
      "execution_count": 19,
      "outputs": []
    },
    {
      "cell_type": "code",
      "metadata": {
        "colab": {
          "base_uri": "https://localhost:8080/",
          "height": 877
        },
        "id": "rFh4QRHNFl8j",
        "outputId": "786fd517-e660-40c8-daca-f4855010a3b5"
      },
      "source": [
        "mean_df"
      ],
      "execution_count": 20,
      "outputs": [
        {
          "output_type": "execute_result",
          "data": {
            "text/html": [
              "<div>\n",
              "<style scoped>\n",
              "    .dataframe tbody tr th:only-of-type {\n",
              "        vertical-align: middle;\n",
              "    }\n",
              "\n",
              "    .dataframe tbody tr th {\n",
              "        vertical-align: top;\n",
              "    }\n",
              "\n",
              "    .dataframe thead th {\n",
              "        text-align: right;\n",
              "    }\n",
              "</style>\n",
              "<table border=\"1\" class=\"dataframe\">\n",
              "  <thead>\n",
              "    <tr style=\"text-align: right;\">\n",
              "      <th></th>\n",
              "      <th></th>\n",
              "      <th>compound</th>\n",
              "    </tr>\n",
              "    <tr>\n",
              "      <th>ticker</th>\n",
              "      <th>date</th>\n",
              "      <th></th>\n",
              "    </tr>\n",
              "  </thead>\n",
              "  <tbody>\n",
              "    <tr>\n",
              "      <th rowspan=\"3\" valign=\"top\">AAPL</th>\n",
              "      <th>2020-12-07</th>\n",
              "      <td>0.078316</td>\n",
              "    </tr>\n",
              "    <tr>\n",
              "      <th>2020-12-08</th>\n",
              "      <td>0.099103</td>\n",
              "    </tr>\n",
              "    <tr>\n",
              "      <th>2020-12-09</th>\n",
              "      <td>0.127986</td>\n",
              "    </tr>\n",
              "    <tr>\n",
              "      <th rowspan=\"5\" valign=\"top\">AMZN</th>\n",
              "      <th>2020-12-05</th>\n",
              "      <td>0.134775</td>\n",
              "    </tr>\n",
              "    <tr>\n",
              "      <th>2020-12-06</th>\n",
              "      <td>-0.073920</td>\n",
              "    </tr>\n",
              "    <tr>\n",
              "      <th>2020-12-07</th>\n",
              "      <td>0.099848</td>\n",
              "    </tr>\n",
              "    <tr>\n",
              "      <th>2020-12-08</th>\n",
              "      <td>0.237041</td>\n",
              "    </tr>\n",
              "    <tr>\n",
              "      <th>2020-12-09</th>\n",
              "      <td>0.178088</td>\n",
              "    </tr>\n",
              "    <tr>\n",
              "      <th rowspan=\"6\" valign=\"top\">FB</th>\n",
              "      <th>2020-12-03</th>\n",
              "      <td>0.023731</td>\n",
              "    </tr>\n",
              "    <tr>\n",
              "      <th>2020-12-04</th>\n",
              "      <td>-0.012775</td>\n",
              "    </tr>\n",
              "    <tr>\n",
              "      <th>2020-12-05</th>\n",
              "      <td>0.063325</td>\n",
              "    </tr>\n",
              "    <tr>\n",
              "      <th>2020-12-07</th>\n",
              "      <td>-0.018524</td>\n",
              "    </tr>\n",
              "    <tr>\n",
              "      <th>2020-12-08</th>\n",
              "      <td>0.067956</td>\n",
              "    </tr>\n",
              "    <tr>\n",
              "      <th>2020-12-09</th>\n",
              "      <td>-0.139495</td>\n",
              "    </tr>\n",
              "    <tr>\n",
              "      <th rowspan=\"7\" valign=\"top\">GOOG</th>\n",
              "      <th>2020-12-03</th>\n",
              "      <td>-0.140847</td>\n",
              "    </tr>\n",
              "    <tr>\n",
              "      <th>2020-12-04</th>\n",
              "      <td>0.055300</td>\n",
              "    </tr>\n",
              "    <tr>\n",
              "      <th>2020-12-05</th>\n",
              "      <td>-0.146475</td>\n",
              "    </tr>\n",
              "    <tr>\n",
              "      <th>2020-12-06</th>\n",
              "      <td>-0.464467</td>\n",
              "    </tr>\n",
              "    <tr>\n",
              "      <th>2020-12-07</th>\n",
              "      <td>-0.049773</td>\n",
              "    </tr>\n",
              "    <tr>\n",
              "      <th>2020-12-08</th>\n",
              "      <td>0.172156</td>\n",
              "    </tr>\n",
              "    <tr>\n",
              "      <th>2020-12-09</th>\n",
              "      <td>0.014883</td>\n",
              "    </tr>\n",
              "    <tr>\n",
              "      <th rowspan=\"2\" valign=\"top\">PFE</th>\n",
              "      <th>2020-12-08</th>\n",
              "      <td>0.104846</td>\n",
              "    </tr>\n",
              "    <tr>\n",
              "      <th>2020-12-09</th>\n",
              "      <td>0.097207</td>\n",
              "    </tr>\n",
              "    <tr>\n",
              "      <th rowspan=\"3\" valign=\"top\">TSLA</th>\n",
              "      <th>2020-12-07</th>\n",
              "      <td>0.062683</td>\n",
              "    </tr>\n",
              "    <tr>\n",
              "      <th>2020-12-08</th>\n",
              "      <td>0.091147</td>\n",
              "    </tr>\n",
              "    <tr>\n",
              "      <th>2020-12-09</th>\n",
              "      <td>0.101537</td>\n",
              "    </tr>\n",
              "  </tbody>\n",
              "</table>\n",
              "</div>"
            ],
            "text/plain": [
              "                   compound\n",
              "ticker date                \n",
              "AAPL   2020-12-07  0.078316\n",
              "       2020-12-08  0.099103\n",
              "       2020-12-09  0.127986\n",
              "AMZN   2020-12-05  0.134775\n",
              "       2020-12-06 -0.073920\n",
              "       2020-12-07  0.099848\n",
              "       2020-12-08  0.237041\n",
              "       2020-12-09  0.178088\n",
              "FB     2020-12-03  0.023731\n",
              "       2020-12-04 -0.012775\n",
              "       2020-12-05  0.063325\n",
              "       2020-12-07 -0.018524\n",
              "       2020-12-08  0.067956\n",
              "       2020-12-09 -0.139495\n",
              "GOOG   2020-12-03 -0.140847\n",
              "       2020-12-04  0.055300\n",
              "       2020-12-05 -0.146475\n",
              "       2020-12-06 -0.464467\n",
              "       2020-12-07 -0.049773\n",
              "       2020-12-08  0.172156\n",
              "       2020-12-09  0.014883\n",
              "PFE    2020-12-08  0.104846\n",
              "       2020-12-09  0.097207\n",
              "TSLA   2020-12-07  0.062683\n",
              "       2020-12-08  0.091147\n",
              "       2020-12-09  0.101537"
            ]
          },
          "metadata": {
            "tags": []
          },
          "execution_count": 20
        }
      ]
    },
    {
      "cell_type": "code",
      "metadata": {
        "colab": {
          "base_uri": "https://localhost:8080/",
          "height": 294
        },
        "id": "X_5UCY4DGyLi",
        "outputId": "54eebf2e-4717-4635-9a81-8f698505fdfc"
      },
      "source": [
        "mean_df = mean_df.unstack()\r\n",
        "mean_df"
      ],
      "execution_count": 21,
      "outputs": [
        {
          "output_type": "execute_result",
          "data": {
            "text/html": [
              "<div>\n",
              "<style scoped>\n",
              "    .dataframe tbody tr th:only-of-type {\n",
              "        vertical-align: middle;\n",
              "    }\n",
              "\n",
              "    .dataframe tbody tr th {\n",
              "        vertical-align: top;\n",
              "    }\n",
              "\n",
              "    .dataframe thead tr th {\n",
              "        text-align: left;\n",
              "    }\n",
              "\n",
              "    .dataframe thead tr:last-of-type th {\n",
              "        text-align: right;\n",
              "    }\n",
              "</style>\n",
              "<table border=\"1\" class=\"dataframe\">\n",
              "  <thead>\n",
              "    <tr>\n",
              "      <th></th>\n",
              "      <th colspan=\"7\" halign=\"left\">compound</th>\n",
              "    </tr>\n",
              "    <tr>\n",
              "      <th>date</th>\n",
              "      <th>2020-12-03</th>\n",
              "      <th>2020-12-04</th>\n",
              "      <th>2020-12-05</th>\n",
              "      <th>2020-12-06</th>\n",
              "      <th>2020-12-07</th>\n",
              "      <th>2020-12-08</th>\n",
              "      <th>2020-12-09</th>\n",
              "    </tr>\n",
              "    <tr>\n",
              "      <th>ticker</th>\n",
              "      <th></th>\n",
              "      <th></th>\n",
              "      <th></th>\n",
              "      <th></th>\n",
              "      <th></th>\n",
              "      <th></th>\n",
              "      <th></th>\n",
              "    </tr>\n",
              "  </thead>\n",
              "  <tbody>\n",
              "    <tr>\n",
              "      <th>AAPL</th>\n",
              "      <td>NaN</td>\n",
              "      <td>NaN</td>\n",
              "      <td>NaN</td>\n",
              "      <td>NaN</td>\n",
              "      <td>0.078316</td>\n",
              "      <td>0.099103</td>\n",
              "      <td>0.127986</td>\n",
              "    </tr>\n",
              "    <tr>\n",
              "      <th>AMZN</th>\n",
              "      <td>NaN</td>\n",
              "      <td>NaN</td>\n",
              "      <td>0.134775</td>\n",
              "      <td>-0.073920</td>\n",
              "      <td>0.099848</td>\n",
              "      <td>0.237041</td>\n",
              "      <td>0.178088</td>\n",
              "    </tr>\n",
              "    <tr>\n",
              "      <th>FB</th>\n",
              "      <td>0.023731</td>\n",
              "      <td>-0.012775</td>\n",
              "      <td>0.063325</td>\n",
              "      <td>NaN</td>\n",
              "      <td>-0.018524</td>\n",
              "      <td>0.067956</td>\n",
              "      <td>-0.139495</td>\n",
              "    </tr>\n",
              "    <tr>\n",
              "      <th>GOOG</th>\n",
              "      <td>-0.140847</td>\n",
              "      <td>0.055300</td>\n",
              "      <td>-0.146475</td>\n",
              "      <td>-0.464467</td>\n",
              "      <td>-0.049773</td>\n",
              "      <td>0.172156</td>\n",
              "      <td>0.014883</td>\n",
              "    </tr>\n",
              "    <tr>\n",
              "      <th>PFE</th>\n",
              "      <td>NaN</td>\n",
              "      <td>NaN</td>\n",
              "      <td>NaN</td>\n",
              "      <td>NaN</td>\n",
              "      <td>NaN</td>\n",
              "      <td>0.104846</td>\n",
              "      <td>0.097207</td>\n",
              "    </tr>\n",
              "    <tr>\n",
              "      <th>TSLA</th>\n",
              "      <td>NaN</td>\n",
              "      <td>NaN</td>\n",
              "      <td>NaN</td>\n",
              "      <td>NaN</td>\n",
              "      <td>0.062683</td>\n",
              "      <td>0.091147</td>\n",
              "      <td>0.101537</td>\n",
              "    </tr>\n",
              "  </tbody>\n",
              "</table>\n",
              "</div>"
            ],
            "text/plain": [
              "         compound                        ...                                 \n",
              "date   2020-12-03 2020-12-04 2020-12-05  ... 2020-12-07 2020-12-08 2020-12-09\n",
              "ticker                                   ...                                 \n",
              "AAPL          NaN        NaN        NaN  ...   0.078316   0.099103   0.127986\n",
              "AMZN          NaN        NaN   0.134775  ...   0.099848   0.237041   0.178088\n",
              "FB       0.023731  -0.012775   0.063325  ...  -0.018524   0.067956  -0.139495\n",
              "GOOG    -0.140847   0.055300  -0.146475  ...  -0.049773   0.172156   0.014883\n",
              "PFE           NaN        NaN        NaN  ...        NaN   0.104846   0.097207\n",
              "TSLA          NaN        NaN        NaN  ...   0.062683   0.091147   0.101537\n",
              "\n",
              "[6 rows x 7 columns]"
            ]
          },
          "metadata": {
            "tags": []
          },
          "execution_count": 21
        }
      ]
    },
    {
      "cell_type": "code",
      "metadata": {
        "colab": {
          "base_uri": "https://localhost:8080/",
          "height": 294
        },
        "id": "EYrG_PczHmpG",
        "outputId": "79cb11a2-b28b-4de3-9fe3-020b03b54d6a"
      },
      "source": [
        "mean_df = mean_df.xs('compound', axis='columns').transpose()\r\n",
        "mean_df"
      ],
      "execution_count": 22,
      "outputs": [
        {
          "output_type": "execute_result",
          "data": {
            "text/html": [
              "<div>\n",
              "<style scoped>\n",
              "    .dataframe tbody tr th:only-of-type {\n",
              "        vertical-align: middle;\n",
              "    }\n",
              "\n",
              "    .dataframe tbody tr th {\n",
              "        vertical-align: top;\n",
              "    }\n",
              "\n",
              "    .dataframe thead th {\n",
              "        text-align: right;\n",
              "    }\n",
              "</style>\n",
              "<table border=\"1\" class=\"dataframe\">\n",
              "  <thead>\n",
              "    <tr style=\"text-align: right;\">\n",
              "      <th>ticker</th>\n",
              "      <th>AAPL</th>\n",
              "      <th>AMZN</th>\n",
              "      <th>FB</th>\n",
              "      <th>GOOG</th>\n",
              "      <th>PFE</th>\n",
              "      <th>TSLA</th>\n",
              "    </tr>\n",
              "    <tr>\n",
              "      <th>date</th>\n",
              "      <th></th>\n",
              "      <th></th>\n",
              "      <th></th>\n",
              "      <th></th>\n",
              "      <th></th>\n",
              "      <th></th>\n",
              "    </tr>\n",
              "  </thead>\n",
              "  <tbody>\n",
              "    <tr>\n",
              "      <th>2020-12-03</th>\n",
              "      <td>NaN</td>\n",
              "      <td>NaN</td>\n",
              "      <td>0.023731</td>\n",
              "      <td>-0.140847</td>\n",
              "      <td>NaN</td>\n",
              "      <td>NaN</td>\n",
              "    </tr>\n",
              "    <tr>\n",
              "      <th>2020-12-04</th>\n",
              "      <td>NaN</td>\n",
              "      <td>NaN</td>\n",
              "      <td>-0.012775</td>\n",
              "      <td>0.055300</td>\n",
              "      <td>NaN</td>\n",
              "      <td>NaN</td>\n",
              "    </tr>\n",
              "    <tr>\n",
              "      <th>2020-12-05</th>\n",
              "      <td>NaN</td>\n",
              "      <td>0.134775</td>\n",
              "      <td>0.063325</td>\n",
              "      <td>-0.146475</td>\n",
              "      <td>NaN</td>\n",
              "      <td>NaN</td>\n",
              "    </tr>\n",
              "    <tr>\n",
              "      <th>2020-12-06</th>\n",
              "      <td>NaN</td>\n",
              "      <td>-0.073920</td>\n",
              "      <td>NaN</td>\n",
              "      <td>-0.464467</td>\n",
              "      <td>NaN</td>\n",
              "      <td>NaN</td>\n",
              "    </tr>\n",
              "    <tr>\n",
              "      <th>2020-12-07</th>\n",
              "      <td>0.078316</td>\n",
              "      <td>0.099848</td>\n",
              "      <td>-0.018524</td>\n",
              "      <td>-0.049773</td>\n",
              "      <td>NaN</td>\n",
              "      <td>0.062683</td>\n",
              "    </tr>\n",
              "    <tr>\n",
              "      <th>2020-12-08</th>\n",
              "      <td>0.099103</td>\n",
              "      <td>0.237041</td>\n",
              "      <td>0.067956</td>\n",
              "      <td>0.172156</td>\n",
              "      <td>0.104846</td>\n",
              "      <td>0.091147</td>\n",
              "    </tr>\n",
              "    <tr>\n",
              "      <th>2020-12-09</th>\n",
              "      <td>0.127986</td>\n",
              "      <td>0.178088</td>\n",
              "      <td>-0.139495</td>\n",
              "      <td>0.014883</td>\n",
              "      <td>0.097207</td>\n",
              "      <td>0.101537</td>\n",
              "    </tr>\n",
              "  </tbody>\n",
              "</table>\n",
              "</div>"
            ],
            "text/plain": [
              "ticker          AAPL      AMZN        FB      GOOG       PFE      TSLA\n",
              "date                                                                  \n",
              "2020-12-03       NaN       NaN  0.023731 -0.140847       NaN       NaN\n",
              "2020-12-04       NaN       NaN -0.012775  0.055300       NaN       NaN\n",
              "2020-12-05       NaN  0.134775  0.063325 -0.146475       NaN       NaN\n",
              "2020-12-06       NaN -0.073920       NaN -0.464467       NaN       NaN\n",
              "2020-12-07  0.078316  0.099848 -0.018524 -0.049773       NaN  0.062683\n",
              "2020-12-08  0.099103  0.237041  0.067956  0.172156  0.104846  0.091147\n",
              "2020-12-09  0.127986  0.178088 -0.139495  0.014883  0.097207  0.101537"
            ]
          },
          "metadata": {
            "tags": []
          },
          "execution_count": 22
        }
      ]
    },
    {
      "cell_type": "code",
      "metadata": {
        "colab": {
          "base_uri": "https://localhost:8080/",
          "height": 344
        },
        "id": "hI1lvnf6H2_T",
        "outputId": "39ae8799-1f7c-4370-f0ca-e68d75361965"
      },
      "source": [
        "mean_df.plot(kind='bar')\r\n",
        "plt.show()"
      ],
      "execution_count": 28,
      "outputs": [
        {
          "output_type": "display_data",
          "data": {
            "text/plain": [
              "<Figure size 864x720 with 0 Axes>"
            ]
          },
          "metadata": {
            "tags": []
          }
        },
        {
          "output_type": "display_data",
          "data": {
            "image/png": "[encoded data removed]",
            "text/plain": [
              "<Figure size 432x288 with 1 Axes>"
            ]
          },
          "metadata": {
            "tags": [],
            "needs_background": "light"
          }
        }
      ]
    },
    {
      "cell_type": "code",
      "metadata": {
        "colab": {
          "base_uri": "https://localhost:8080/"
        },
        "id": "9j_JonOrTjit",
        "outputId": "197b58f8-7601-445a-d96f-f2a0f733c268"
      },
      "source": [
        "mean_df.columns"
      ],
      "execution_count": 33,
      "outputs": [
        {
          "output_type": "execute_result",
          "data": {
            "text/plain": [
              "Index(['AAPL', 'AMZN', 'FB', 'GOOG', 'PFE', 'TSLA'], dtype='object', name='ticker')"
            ]
          },
          "metadata": {
            "tags": []
          },
          "execution_count": 33
        }
      ]
    },
    {
      "cell_type": "code",
      "metadata": {
        "id": "Gz9roxJBUgWF"
      },
      "source": [
        ""
      ],
      "execution_count": null,
      "outputs": []
    }
  ]
}